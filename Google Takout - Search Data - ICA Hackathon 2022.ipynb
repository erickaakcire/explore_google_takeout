{
 "cells": [
  {
   "cell_type": "code",
   "execution_count": 1,
   "id": "ee3c78ee",
   "metadata": {
    "slideshow": {
     "slide_type": "skip"
    }
   },
   "outputs": [
    {
     "data": {
      "text/plain": [
       "2"
      ]
     },
     "execution_count": 1,
     "metadata": {},
     "output_type": "execute_result"
    }
   ],
   "source": [
    "#https://rise.readthedocs.io/en/stable/usage.html"
   ]
  },
  {
   "cell_type": "markdown",
   "id": "82325ad3",
   "metadata": {
    "slideshow": {
     "slide_type": "slide"
    }
   },
   "source": [
    "# Breakout Session Goals\n",
    "In this Breakout session we will analyze our own Google Search History Takeouts to gain insights on 1) what we could potentially learn from this data source and 2) what the practical challenges of gathering data would be."
   ]
  },
  {
   "cell_type": "markdown",
   "id": "0827205c",
   "metadata": {
    "slideshow": {
     "slide_type": "slide"
    }
   },
   "source": [
    "# Personal data downloads / takeouts\n",
    "- Came about due to [GDPR](https://gdpr.eu/what-is-gdpr/)\n",
    "- Allows researchers to partner with individuals - data donation approach\n",
    "- Still subject to the data formatting of platforms which could change any time\n",
    "- Can be confusing for participants to accomplish\n",
    "- Can be hard hard for participants to see what data they are donating (and thus provide *informed* consent)"
   ]
  },
  {
   "cell_type": "markdown",
   "id": "b375ca24",
   "metadata": {
    "slideshow": {
     "slide_type": "slide"
    }
   },
   "source": [
    "# Personal data downloads / takeouts\n",
    "- HUGE advantage over other approaches, device agnostic - anywhere one is logged into the platform the data are collected\n",
    "- Historical approach avoids '[hawthorn](https://en.wikipedia.org/wiki/Hawthorne_effect) / observation' effects issues\n",
    "- Single platform - depends how concentrated individuals are to a single platform -- Google Search is widely used and [the search engine market overall is highly concentrated](https://gs.statcounter.com/search-engine-market-share)"
   ]
  },
  {
   "cell_type": "markdown",
   "id": "fbb206bb",
   "metadata": {
    "slideshow": {
     "slide_type": "slide"
    }
   },
   "source": [
    "# Introductions\n",
    "- Depending on what introductions we have already done in the main session: \n",
    "    - Name\n",
    "    - Title\n",
    "    - University\n",
    "    - Your interest in takeouts/search traces\n",
    "    - Any prior experience with related approaches or data?"
   ]
  },
  {
   "cell_type": "markdown",
   "id": "6d339fe7",
   "metadata": {
    "slideshow": {
     "slide_type": "slide"
    }
   },
   "source": [
    "# How to download your search history from Google\n",
    "- Go to [takeout.google.com](https://takeout.google.com)\n",
    "- Click \"Deselect all\" button (so you are not downloading everything which would take a long time!)\n",
    "- Check \"My Activity\"\n",
    "- Click \"multiple formats\" and change from HTML to JSON and click OK\n",
    "- At the bottom of the page click \"Next Step\"\n",
    "- Click \"Create export\""
   ]
  },
  {
   "cell_type": "markdown",
   "id": "9c90f050",
   "metadata": {
    "slideshow": {
     "slide_type": "slide"
    }
   },
   "source": [
    "# How to download your search history from Google\n",
    "\n",
    "- The Export Progress message will say it could take hours or days to complete, but it will only take a few minutes.\n",
    "- You can view your export in progress: [https://takeout.google.com/takeout/downloads](https://takeout.google.com/takeout/downloads) you'll see it available for download soon. You may need to refresh the page.\n",
    "- Click Download"
   ]
  },
  {
   "cell_type": "markdown",
   "id": "e197ee17",
   "metadata": {
    "slideshow": {
     "slide_type": "slide"
    }
   },
   "source": [
    "# How to follow along in Python\n",
    "- If you already know how to clone a github repository and open an ipynb file, here is the repository link: https://github.com/erickaakcire/explore_google_takeout\n",
    "- If not I will show you how to open it in Google Colab (no need to install python, etc.). **Everyone can follow along!**"
   ]
  },
  {
   "cell_type": "markdown",
   "id": "9fae6872",
   "metadata": {
    "slideshow": {
     "slide_type": "subslide"
    }
   },
   "source": [
    "1. Login to Google and go to https://drive.google.com/ \n",
    "2. Create a new Google Colab document by going to New > More > Google Colabratory\n",
    "    - If you do not see a \"Google Colabratory\" option, go to \"Connect more apps\" and choose Google Colabratory\n",
    "    - When you have done this you have created a new blank ipynb python file on Googles servers\n",
    "3. Now we need to import the ipynb file into your new Google Colab document. Go to File > Upload Notebook > click the Github tab. Enter this Github URL: https://github.com/erickaakcire/explore_google_takeout\n",
    "    - It will find the one ipynb file, then just click on it to load it."
   ]
  },
  {
   "cell_type": "markdown",
   "id": "4d8278e5",
   "metadata": {
    "slideshow": {
     "slide_type": "slide"
    }
   },
   "source": [
    "# Load your json file into Pandas\n",
    "- If you are working locally, just change the path to your own\n",
    "- If you are working on Google Colab, first upload the MyActivity.json file that you find in the Search folder to Google Colab. Click on the folder icon on the left, which will open up a file view where you can drag your file. To get the path of this file, click the three dots menu on the right of the file and choose \"copy path\" then just paste what you have inside the quotation marks in the cell below.\n",
    "\n",
    "![google colab image](google_colab_1.png)"
   ]
  },
  {
   "cell_type": "code",
   "execution_count": 19,
   "id": "7983238c",
   "metadata": {
    "slideshow": {
     "slide_type": "fragment"
    }
   },
   "outputs": [
    {
     "data": {
      "text/html": [
       "<div>\n",
       "<style scoped>\n",
       "    .dataframe tbody tr th:only-of-type {\n",
       "        vertical-align: middle;\n",
       "    }\n",
       "\n",
       "    .dataframe tbody tr th {\n",
       "        vertical-align: top;\n",
       "    }\n",
       "\n",
       "    .dataframe thead th {\n",
       "        text-align: right;\n",
       "    }\n",
       "</style>\n",
       "<table border=\"1\" class=\"dataframe\">\n",
       "  <thead>\n",
       "    <tr style=\"text-align: right;\">\n",
       "      <th></th>\n",
       "      <th>header</th>\n",
       "      <th>title</th>\n",
       "      <th>titleUrl</th>\n",
       "      <th>time</th>\n",
       "      <th>products</th>\n",
       "      <th>activityControls</th>\n",
       "      <th>locationInfos</th>\n",
       "      <th>details</th>\n",
       "      <th>subtitles</th>\n",
       "    </tr>\n",
       "  </thead>\n",
       "  <tbody>\n",
       "    <tr>\n",
       "      <th>0</th>\n",
       "      <td>Search</td>\n",
       "      <td>Visited How to Add R to Jupyter Notebook ? - G...</td>\n",
       "      <td>https://www.google.com/url?q=https://www.geeks...</td>\n",
       "      <td>2022-05-18T23:13:57.036Z</td>\n",
       "      <td>[Search]</td>\n",
       "      <td>[Web &amp; App Activity]</td>\n",
       "      <td>NaN</td>\n",
       "      <td>NaN</td>\n",
       "      <td>NaN</td>\n",
       "    </tr>\n",
       "    <tr>\n",
       "      <th>1</th>\n",
       "      <td>Search</td>\n",
       "      <td>Visited dyld : Library not loaded: Reason: ima...</td>\n",
       "      <td>https://www.google.com/url?q=https://www.biost...</td>\n",
       "      <td>2022-05-18T23:09:28.840Z</td>\n",
       "      <td>[Search]</td>\n",
       "      <td>[Web &amp; App Activity]</td>\n",
       "      <td>NaN</td>\n",
       "      <td>NaN</td>\n",
       "      <td>NaN</td>\n",
       "    </tr>\n",
       "    <tr>\n",
       "      <th>2</th>\n",
       "      <td>Search</td>\n",
       "      <td>Searched for dyld: Library not loaded: @rpath/...</td>\n",
       "      <td>https://www.google.com/search?q=dyld:+Library+...</td>\n",
       "      <td>2022-05-18T23:09:14.320Z</td>\n",
       "      <td>[Search]</td>\n",
       "      <td>[Web &amp; App Activity]</td>\n",
       "      <td>[{'name': 'At this general area', 'url': 'http...</td>\n",
       "      <td>NaN</td>\n",
       "      <td>NaN</td>\n",
       "    </tr>\n",
       "    <tr>\n",
       "      <th>3</th>\n",
       "      <td>Search</td>\n",
       "      <td>Visited Jupyter Notebook : HTTP 404: Not Found...</td>\n",
       "      <td>https://www.google.com/url?q=https://github.co...</td>\n",
       "      <td>2022-05-18T23:03:00.510Z</td>\n",
       "      <td>[Search]</td>\n",
       "      <td>[Web &amp; App Activity]</td>\n",
       "      <td>NaN</td>\n",
       "      <td>NaN</td>\n",
       "      <td>NaN</td>\n",
       "    </tr>\n",
       "    <tr>\n",
       "      <th>4</th>\n",
       "      <td>Search</td>\n",
       "      <td>Searched for jupyter notebook r kernel not sta...</td>\n",
       "      <td>https://www.google.com/search?q=jupyter+notebo...</td>\n",
       "      <td>2022-05-18T23:02:56.912Z</td>\n",
       "      <td>[Search]</td>\n",
       "      <td>[Web &amp; App Activity]</td>\n",
       "      <td>[{'name': 'At this general area', 'url': 'http...</td>\n",
       "      <td>NaN</td>\n",
       "      <td>NaN</td>\n",
       "    </tr>\n",
       "  </tbody>\n",
       "</table>\n",
       "</div>"
      ],
      "text/plain": [
       "   header                                              title  \\\n",
       "0  Search  Visited How to Add R to Jupyter Notebook ? - G...   \n",
       "1  Search  Visited dyld : Library not loaded: Reason: ima...   \n",
       "2  Search  Searched for dyld: Library not loaded: @rpath/...   \n",
       "3  Search  Visited Jupyter Notebook : HTTP 404: Not Found...   \n",
       "4  Search  Searched for jupyter notebook r kernel not sta...   \n",
       "\n",
       "                                            titleUrl  \\\n",
       "0  https://www.google.com/url?q=https://www.geeks...   \n",
       "1  https://www.google.com/url?q=https://www.biost...   \n",
       "2  https://www.google.com/search?q=dyld:+Library+...   \n",
       "3  https://www.google.com/url?q=https://github.co...   \n",
       "4  https://www.google.com/search?q=jupyter+notebo...   \n",
       "\n",
       "                       time  products      activityControls  \\\n",
       "0  2022-05-18T23:13:57.036Z  [Search]  [Web & App Activity]   \n",
       "1  2022-05-18T23:09:28.840Z  [Search]  [Web & App Activity]   \n",
       "2  2022-05-18T23:09:14.320Z  [Search]  [Web & App Activity]   \n",
       "3  2022-05-18T23:03:00.510Z  [Search]  [Web & App Activity]   \n",
       "4  2022-05-18T23:02:56.912Z  [Search]  [Web & App Activity]   \n",
       "\n",
       "                                       locationInfos details subtitles  \n",
       "0                                                NaN     NaN       NaN  \n",
       "1                                                NaN     NaN       NaN  \n",
       "2  [{'name': 'At this general area', 'url': 'http...     NaN       NaN  \n",
       "3                                                NaN     NaN       NaN  \n",
       "4  [{'name': 'At this general area', 'url': 'http...     NaN       NaN  "
      ]
     },
     "execution_count": 19,
     "metadata": {},
     "output_type": "execute_result"
    }
   ],
   "source": [
    "import pandas as pd\n",
    "# CHANGE THE FILE PATH BELOW TO YOUR FILE PATH (LOCAL OR ON COLAB)\n",
    "df = pd.read_json(\"/content/MyActivity.json\")\n",
    "df.head()"
   ]
  },
  {
   "cell_type": "markdown",
   "id": "cb64f469",
   "metadata": {
    "slideshow": {
     "slide_type": "slide"
    }
   },
   "source": [
    "# Goal\n",
    "\n",
    "## Display frequent search terms (unigrams) (overall, by month)\n",
    "\n",
    "1. \"searched for\" and \"visited\" record types must be distinguished\n",
    "2. Extract the month/year as a variable\n",
    "3. Lower case the title field, take out punctuation, split by space to create a clean search words array\n",
    "4. Remove stop words for your language(s)\n",
    "5. Group by month and view the top X words per month"
   ]
  },
  {
   "cell_type": "markdown",
   "id": "ac5a27e2",
   "metadata": {
    "slideshow": {
     "slide_type": "slide"
    }
   },
   "source": [
    "# First, general exploration"
   ]
  },
  {
   "cell_type": "code",
   "execution_count": 20,
   "id": "2fad96ee",
   "metadata": {
    "slideshow": {
     "slide_type": "fragment"
    }
   },
   "outputs": [
    {
     "data": {
      "text/html": [
       "<div>\n",
       "<style scoped>\n",
       "    .dataframe tbody tr th:only-of-type {\n",
       "        vertical-align: middle;\n",
       "    }\n",
       "\n",
       "    .dataframe tbody tr th {\n",
       "        vertical-align: top;\n",
       "    }\n",
       "\n",
       "    .dataframe thead th {\n",
       "        text-align: right;\n",
       "    }\n",
       "</style>\n",
       "<table border=\"1\" class=\"dataframe\">\n",
       "  <thead>\n",
       "    <tr style=\"text-align: right;\">\n",
       "      <th></th>\n",
       "      <th>header</th>\n",
       "      <th>title</th>\n",
       "      <th>titleUrl</th>\n",
       "      <th>time</th>\n",
       "      <th>products</th>\n",
       "      <th>activityControls</th>\n",
       "      <th>locationInfos</th>\n",
       "      <th>details</th>\n",
       "      <th>subtitles</th>\n",
       "    </tr>\n",
       "  </thead>\n",
       "  <tbody>\n",
       "    <tr>\n",
       "      <th>50219</th>\n",
       "      <td>Search</td>\n",
       "      <td>Visited http://sinosphere.blogs.nytimes.com/20...</td>\n",
       "      <td>https://www.google.com/url?q=http://sinosphere...</td>\n",
       "      <td>2014-04-03T08:20:26.348Z</td>\n",
       "      <td>[Search]</td>\n",
       "      <td>[Web &amp; App Activity]</td>\n",
       "      <td>NaN</td>\n",
       "      <td>NaN</td>\n",
       "      <td>NaN</td>\n",
       "    </tr>\n",
       "    <tr>\n",
       "      <th>50220</th>\n",
       "      <td>Search</td>\n",
       "      <td>Visited http://en.wikipedia.org/wiki/Bo_Xilai</td>\n",
       "      <td>https://www.google.com/url?q=http://en.wikiped...</td>\n",
       "      <td>2014-04-03T08:20:22.179Z</td>\n",
       "      <td>[Search]</td>\n",
       "      <td>[Web &amp; App Activity]</td>\n",
       "      <td>NaN</td>\n",
       "      <td>NaN</td>\n",
       "      <td>NaN</td>\n",
       "    </tr>\n",
       "    <tr>\n",
       "      <th>50221</th>\n",
       "      <td>Search</td>\n",
       "      <td>Visited http://www.bbc.com/news/world-asia-chi...</td>\n",
       "      <td>https://www.google.com/url?q=http://www.bbc.co...</td>\n",
       "      <td>2014-04-03T08:20:20.328Z</td>\n",
       "      <td>[Search]</td>\n",
       "      <td>[Web &amp; App Activity]</td>\n",
       "      <td>NaN</td>\n",
       "      <td>NaN</td>\n",
       "      <td>NaN</td>\n",
       "    </tr>\n",
       "    <tr>\n",
       "      <th>50222</th>\n",
       "      <td>Search</td>\n",
       "      <td>Searched for bo xilai</td>\n",
       "      <td>https://www.google.com/search?q=bo+xilai</td>\n",
       "      <td>2014-04-03T08:20:11.424Z</td>\n",
       "      <td>[Search]</td>\n",
       "      <td>[Web &amp; App Activity]</td>\n",
       "      <td>NaN</td>\n",
       "      <td>NaN</td>\n",
       "      <td>NaN</td>\n",
       "    </tr>\n",
       "    <tr>\n",
       "      <th>50223</th>\n",
       "      <td>Search</td>\n",
       "      <td>Searched for 10 megabytes in bytes</td>\n",
       "      <td>https://www.google.com/search?q=10+megabytes+i...</td>\n",
       "      <td>2014-04-02T14:39:42.060Z</td>\n",
       "      <td>[Search]</td>\n",
       "      <td>[Web &amp; App Activity]</td>\n",
       "      <td>NaN</td>\n",
       "      <td>NaN</td>\n",
       "      <td>NaN</td>\n",
       "    </tr>\n",
       "  </tbody>\n",
       "</table>\n",
       "</div>"
      ],
      "text/plain": [
       "       header                                              title  \\\n",
       "50219  Search  Visited http://sinosphere.blogs.nytimes.com/20...   \n",
       "50220  Search      Visited http://en.wikipedia.org/wiki/Bo_Xilai   \n",
       "50221  Search  Visited http://www.bbc.com/news/world-asia-chi...   \n",
       "50222  Search                              Searched for bo xilai   \n",
       "50223  Search                 Searched for 10 megabytes in bytes   \n",
       "\n",
       "                                                titleUrl  \\\n",
       "50219  https://www.google.com/url?q=http://sinosphere...   \n",
       "50220  https://www.google.com/url?q=http://en.wikiped...   \n",
       "50221  https://www.google.com/url?q=http://www.bbc.co...   \n",
       "50222           https://www.google.com/search?q=bo+xilai   \n",
       "50223  https://www.google.com/search?q=10+megabytes+i...   \n",
       "\n",
       "                           time  products      activityControls locationInfos  \\\n",
       "50219  2014-04-03T08:20:26.348Z  [Search]  [Web & App Activity]           NaN   \n",
       "50220  2014-04-03T08:20:22.179Z  [Search]  [Web & App Activity]           NaN   \n",
       "50221  2014-04-03T08:20:20.328Z  [Search]  [Web & App Activity]           NaN   \n",
       "50222  2014-04-03T08:20:11.424Z  [Search]  [Web & App Activity]           NaN   \n",
       "50223  2014-04-02T14:39:42.060Z  [Search]  [Web & App Activity]           NaN   \n",
       "\n",
       "      details subtitles  \n",
       "50219     NaN       NaN  \n",
       "50220     NaN       NaN  \n",
       "50221     NaN       NaN  \n",
       "50222     NaN       NaN  \n",
       "50223     NaN       NaN  "
      ]
     },
     "execution_count": 20,
     "metadata": {},
     "output_type": "execute_result"
    }
   ],
   "source": [
    "df.tail()"
   ]
  },
  {
   "cell_type": "code",
   "execution_count": 21,
   "id": "28331ac6",
   "metadata": {
    "slideshow": {
     "slide_type": "fragment"
    }
   },
   "outputs": [
    {
     "data": {
      "text/plain": [
       "(50224, 9)"
      ]
     },
     "execution_count": 21,
     "metadata": {},
     "output_type": "execute_result"
    }
   ],
   "source": [
    "df.shape"
   ]
  },
  {
   "cell_type": "code",
   "execution_count": 22,
   "id": "87425aef",
   "metadata": {
    "slideshow": {
     "slide_type": "slide"
    }
   },
   "outputs": [
    {
     "name": "stdout",
     "output_type": "stream",
     "text": [
      "<class 'pandas.core.frame.DataFrame'>\n",
      "RangeIndex: 50224 entries, 0 to 50223\n",
      "Data columns (total 9 columns):\n",
      " #   Column            Non-Null Count  Dtype \n",
      "---  ------            --------------  ----- \n",
      " 0   header            50224 non-null  object\n",
      " 1   title             50224 non-null  object\n",
      " 2   titleUrl          50019 non-null  object\n",
      " 3   time              50224 non-null  object\n",
      " 4   products          50224 non-null  object\n",
      " 5   activityControls  50224 non-null  object\n",
      " 6   locationInfos     19892 non-null  object\n",
      " 7   details           71 non-null     object\n",
      " 8   subtitles         11 non-null     object\n",
      "dtypes: object(9)\n",
      "memory usage: 3.4+ MB\n"
     ]
    }
   ],
   "source": [
    "df.info()"
   ]
  },
  {
   "cell_type": "markdown",
   "id": "72bcec8e",
   "metadata": {
    "slideshow": {
     "slide_type": "fragment"
    }
   },
   "source": [
    "# 'time' is not a timestamp!"
   ]
  },
  {
   "cell_type": "code",
   "execution_count": 23,
   "id": "60121982",
   "metadata": {
    "slideshow": {
     "slide_type": "slide"
    }
   },
   "outputs": [
    {
     "name": "stdout",
     "output_type": "stream",
     "text": [
      "<class 'pandas.core.frame.DataFrame'>\n",
      "RangeIndex: 50224 entries, 0 to 50223\n",
      "Data columns (total 9 columns):\n",
      " #   Column            Non-Null Count  Dtype              \n",
      "---  ------            --------------  -----              \n",
      " 0   header            50224 non-null  object             \n",
      " 1   title             50224 non-null  object             \n",
      " 2   titleUrl          50019 non-null  object             \n",
      " 3   time              50224 non-null  datetime64[ns, UTC]\n",
      " 4   products          50224 non-null  object             \n",
      " 5   activityControls  50224 non-null  object             \n",
      " 6   locationInfos     19892 non-null  object             \n",
      " 7   details           71 non-null     object             \n",
      " 8   subtitles         11 non-null     object             \n",
      "dtypes: datetime64[ns, UTC](1), object(8)\n",
      "memory usage: 3.4+ MB\n"
     ]
    }
   ],
   "source": [
    "df['time'] = pd.to_datetime(df['time'], infer_datetime_format=True)\n",
    "df.info()"
   ]
  },
  {
   "cell_type": "code",
   "execution_count": 24,
   "id": "6dacf9b6",
   "metadata": {
    "slideshow": {
     "slide_type": "slide"
    }
   },
   "outputs": [
    {
     "name": "stderr",
     "output_type": "stream",
     "text": [
      "/var/folders/3g/s_fz7w8j73b8ksc4116pztwc0000gn/T/ipykernel_52666/3627053830.py:1: FutureWarning: Treating datetime data as categorical rather than numeric in `.describe` is deprecated and will be removed in a future version of pandas. Specify `datetime_is_numeric=True` to silence this warning and adopt the future behavior now.\n",
      "  df.describe()\n"
     ]
    },
    {
     "data": {
      "text/html": [
       "<div>\n",
       "<style scoped>\n",
       "    .dataframe tbody tr th:only-of-type {\n",
       "        vertical-align: middle;\n",
       "    }\n",
       "\n",
       "    .dataframe tbody tr th {\n",
       "        vertical-align: top;\n",
       "    }\n",
       "\n",
       "    .dataframe thead th {\n",
       "        text-align: right;\n",
       "    }\n",
       "</style>\n",
       "<table border=\"1\" class=\"dataframe\">\n",
       "  <thead>\n",
       "    <tr style=\"text-align: right;\">\n",
       "      <th></th>\n",
       "      <th>header</th>\n",
       "      <th>title</th>\n",
       "      <th>titleUrl</th>\n",
       "      <th>time</th>\n",
       "      <th>products</th>\n",
       "      <th>activityControls</th>\n",
       "      <th>locationInfos</th>\n",
       "      <th>details</th>\n",
       "      <th>subtitles</th>\n",
       "    </tr>\n",
       "  </thead>\n",
       "  <tbody>\n",
       "    <tr>\n",
       "      <th>count</th>\n",
       "      <td>50224</td>\n",
       "      <td>50224</td>\n",
       "      <td>50019</td>\n",
       "      <td>50224</td>\n",
       "      <td>50224</td>\n",
       "      <td>50224</td>\n",
       "      <td>19892</td>\n",
       "      <td>71</td>\n",
       "      <td>11</td>\n",
       "    </tr>\n",
       "    <tr>\n",
       "      <th>unique</th>\n",
       "      <td>1</td>\n",
       "      <td>42066</td>\n",
       "      <td>42118</td>\n",
       "      <td>49818</td>\n",
       "      <td>1</td>\n",
       "      <td>1</td>\n",
       "      <td>1363</td>\n",
       "      <td>39</td>\n",
       "      <td>11</td>\n",
       "    </tr>\n",
       "    <tr>\n",
       "      <th>top</th>\n",
       "      <td>Search</td>\n",
       "      <td>Visited Google Search</td>\n",
       "      <td>https://www.google.com</td>\n",
       "      <td>2021-03-24 01:58:44.184000+00:00</td>\n",
       "      <td>[Search]</td>\n",
       "      <td>[Web &amp; App Activity]</td>\n",
       "      <td>[{'name': 'At this general area', 'url': 'http...</td>\n",
       "      <td>[{'name': 'Referred from timeanddate.com'}]</td>\n",
       "      <td>[{'name': 'Including topics:'}, {'name': 'Dona...</td>\n",
       "    </tr>\n",
       "    <tr>\n",
       "      <th>freq</th>\n",
       "      <td>50224</td>\n",
       "      <td>334</td>\n",
       "      <td>334</td>\n",
       "      <td>3</td>\n",
       "      <td>50224</td>\n",
       "      <td>50224</td>\n",
       "      <td>5798</td>\n",
       "      <td>6</td>\n",
       "      <td>1</td>\n",
       "    </tr>\n",
       "    <tr>\n",
       "      <th>first</th>\n",
       "      <td>NaN</td>\n",
       "      <td>NaN</td>\n",
       "      <td>NaN</td>\n",
       "      <td>2014-04-02 14:39:42.060000+00:00</td>\n",
       "      <td>NaN</td>\n",
       "      <td>NaN</td>\n",
       "      <td>NaN</td>\n",
       "      <td>NaN</td>\n",
       "      <td>NaN</td>\n",
       "    </tr>\n",
       "    <tr>\n",
       "      <th>last</th>\n",
       "      <td>NaN</td>\n",
       "      <td>NaN</td>\n",
       "      <td>NaN</td>\n",
       "      <td>2022-05-18 23:13:57.036000+00:00</td>\n",
       "      <td>NaN</td>\n",
       "      <td>NaN</td>\n",
       "      <td>NaN</td>\n",
       "      <td>NaN</td>\n",
       "      <td>NaN</td>\n",
       "    </tr>\n",
       "  </tbody>\n",
       "</table>\n",
       "</div>"
      ],
      "text/plain": [
       "        header                  title                titleUrl  \\\n",
       "count    50224                  50224                   50019   \n",
       "unique       1                  42066                   42118   \n",
       "top     Search  Visited Google Search  https://www.google.com   \n",
       "freq     50224                    334                     334   \n",
       "first      NaN                    NaN                     NaN   \n",
       "last       NaN                    NaN                     NaN   \n",
       "\n",
       "                                    time  products      activityControls  \\\n",
       "count                              50224     50224                 50224   \n",
       "unique                             49818         1                     1   \n",
       "top     2021-03-24 01:58:44.184000+00:00  [Search]  [Web & App Activity]   \n",
       "freq                                   3     50224                 50224   \n",
       "first   2014-04-02 14:39:42.060000+00:00       NaN                   NaN   \n",
       "last    2022-05-18 23:13:57.036000+00:00       NaN                   NaN   \n",
       "\n",
       "                                            locationInfos  \\\n",
       "count                                               19892   \n",
       "unique                                               1363   \n",
       "top     [{'name': 'At this general area', 'url': 'http...   \n",
       "freq                                                 5798   \n",
       "first                                                 NaN   \n",
       "last                                                  NaN   \n",
       "\n",
       "                                            details  \\\n",
       "count                                            71   \n",
       "unique                                           39   \n",
       "top     [{'name': 'Referred from timeanddate.com'}]   \n",
       "freq                                              6   \n",
       "first                                           NaN   \n",
       "last                                            NaN   \n",
       "\n",
       "                                                subtitles  \n",
       "count                                                  11  \n",
       "unique                                                 11  \n",
       "top     [{'name': 'Including topics:'}, {'name': 'Dona...  \n",
       "freq                                                    1  \n",
       "first                                                 NaN  \n",
       "last                                                  NaN  "
      ]
     },
     "execution_count": 24,
     "metadata": {},
     "output_type": "execute_result"
    }
   ],
   "source": [
    "df.describe()"
   ]
  },
  {
   "cell_type": "markdown",
   "id": "c4ec2bf6",
   "metadata": {
    "slideshow": {
     "slide_type": "fragment"
    }
   },
   "source": [
    "# Three columns have only 1 value"
   ]
  },
  {
   "cell_type": "markdown",
   "id": "5dba1d7d",
   "metadata": {
    "slideshow": {
     "slide_type": "slide"
    }
   },
   "source": [
    "# We really only need two columns for this example"
   ]
  },
  {
   "cell_type": "code",
   "execution_count": 25,
   "id": "b6309770",
   "metadata": {
    "slideshow": {
     "slide_type": "fragment"
    }
   },
   "outputs": [],
   "source": [
    "df = df[['title','time']]"
   ]
  },
  {
   "cell_type": "code",
   "execution_count": 26,
   "id": "a848cf2f",
   "metadata": {
    "slideshow": {
     "slide_type": "fragment"
    }
   },
   "outputs": [
    {
     "data": {
      "text/html": [
       "<div>\n",
       "<style scoped>\n",
       "    .dataframe tbody tr th:only-of-type {\n",
       "        vertical-align: middle;\n",
       "    }\n",
       "\n",
       "    .dataframe tbody tr th {\n",
       "        vertical-align: top;\n",
       "    }\n",
       "\n",
       "    .dataframe thead th {\n",
       "        text-align: right;\n",
       "    }\n",
       "</style>\n",
       "<table border=\"1\" class=\"dataframe\">\n",
       "  <thead>\n",
       "    <tr style=\"text-align: right;\">\n",
       "      <th></th>\n",
       "      <th>title</th>\n",
       "      <th>time</th>\n",
       "      <th>year</th>\n",
       "      <th>month</th>\n",
       "    </tr>\n",
       "  </thead>\n",
       "  <tbody>\n",
       "    <tr>\n",
       "      <th>0</th>\n",
       "      <td>Visited How to Add R to Jupyter Notebook ? - G...</td>\n",
       "      <td>2022-05-18 23:13:57.036000+00:00</td>\n",
       "      <td>2022</td>\n",
       "      <td>5</td>\n",
       "    </tr>\n",
       "    <tr>\n",
       "      <th>1</th>\n",
       "      <td>Visited dyld : Library not loaded: Reason: ima...</td>\n",
       "      <td>2022-05-18 23:09:28.840000+00:00</td>\n",
       "      <td>2022</td>\n",
       "      <td>5</td>\n",
       "    </tr>\n",
       "    <tr>\n",
       "      <th>2</th>\n",
       "      <td>Searched for dyld: Library not loaded: @rpath/...</td>\n",
       "      <td>2022-05-18 23:09:14.320000+00:00</td>\n",
       "      <td>2022</td>\n",
       "      <td>5</td>\n",
       "    </tr>\n",
       "    <tr>\n",
       "      <th>3</th>\n",
       "      <td>Visited Jupyter Notebook : HTTP 404: Not Found...</td>\n",
       "      <td>2022-05-18 23:03:00.510000+00:00</td>\n",
       "      <td>2022</td>\n",
       "      <td>5</td>\n",
       "    </tr>\n",
       "    <tr>\n",
       "      <th>4</th>\n",
       "      <td>Searched for jupyter notebook r kernel not sta...</td>\n",
       "      <td>2022-05-18 23:02:56.912000+00:00</td>\n",
       "      <td>2022</td>\n",
       "      <td>5</td>\n",
       "    </tr>\n",
       "  </tbody>\n",
       "</table>\n",
       "</div>"
      ],
      "text/plain": [
       "                                               title  \\\n",
       "0  Visited How to Add R to Jupyter Notebook ? - G...   \n",
       "1  Visited dyld : Library not loaded: Reason: ima...   \n",
       "2  Searched for dyld: Library not loaded: @rpath/...   \n",
       "3  Visited Jupyter Notebook : HTTP 404: Not Found...   \n",
       "4  Searched for jupyter notebook r kernel not sta...   \n",
       "\n",
       "                              time  year  month  \n",
       "0 2022-05-18 23:13:57.036000+00:00  2022      5  \n",
       "1 2022-05-18 23:09:28.840000+00:00  2022      5  \n",
       "2 2022-05-18 23:09:14.320000+00:00  2022      5  \n",
       "3 2022-05-18 23:03:00.510000+00:00  2022      5  \n",
       "4 2022-05-18 23:02:56.912000+00:00  2022      5  "
      ]
     },
     "execution_count": 26,
     "metadata": {},
     "output_type": "execute_result"
    }
   ],
   "source": [
    "df['year'] = df['time'].dt.year\n",
    "df['month'] = df['time'].dt.month\n",
    "df.head()"
   ]
  },
  {
   "cell_type": "markdown",
   "id": "42a93f98",
   "metadata": {
    "slideshow": {
     "slide_type": "slide"
    }
   },
   "source": [
    "# We just need searches, not visits"
   ]
  },
  {
   "cell_type": "code",
   "execution_count": 27,
   "id": "77e437d3",
   "metadata": {
    "slideshow": {
     "slide_type": "fragment"
    }
   },
   "outputs": [],
   "source": [
    "df['search_terms'] = df['title'].str.extract(r'Searched for (.*)', expand=False)"
   ]
  },
  {
   "cell_type": "code",
   "execution_count": 28,
   "id": "7c23013a",
   "metadata": {
    "slideshow": {
     "slide_type": "fragment"
    }
   },
   "outputs": [
    {
     "data": {
      "text/html": [
       "<div>\n",
       "<style scoped>\n",
       "    .dataframe tbody tr th:only-of-type {\n",
       "        vertical-align: middle;\n",
       "    }\n",
       "\n",
       "    .dataframe tbody tr th {\n",
       "        vertical-align: top;\n",
       "    }\n",
       "\n",
       "    .dataframe thead th {\n",
       "        text-align: right;\n",
       "    }\n",
       "</style>\n",
       "<table border=\"1\" class=\"dataframe\">\n",
       "  <thead>\n",
       "    <tr style=\"text-align: right;\">\n",
       "      <th></th>\n",
       "      <th>title</th>\n",
       "      <th>time</th>\n",
       "      <th>year</th>\n",
       "      <th>month</th>\n",
       "      <th>search terms</th>\n",
       "    </tr>\n",
       "  </thead>\n",
       "  <tbody>\n",
       "    <tr>\n",
       "      <th>2</th>\n",
       "      <td>Searched for dyld: Library not loaded: @rpath/...</td>\n",
       "      <td>2022-05-18 23:09:14.320000+00:00</td>\n",
       "      <td>2022</td>\n",
       "      <td>5</td>\n",
       "      <td>dyld: Library not loaded: @rpath/libreadline.6...</td>\n",
       "    </tr>\n",
       "    <tr>\n",
       "      <th>4</th>\n",
       "      <td>Searched for jupyter notebook r kernel not sta...</td>\n",
       "      <td>2022-05-18 23:02:56.912000+00:00</td>\n",
       "      <td>2022</td>\n",
       "      <td>5</td>\n",
       "      <td>jupyter notebook r kernel not starting Error o...</td>\n",
       "    </tr>\n",
       "    <tr>\n",
       "      <th>6</th>\n",
       "      <td>Searched for jupyter notebook r kernel not sta...</td>\n",
       "      <td>2022-05-18 23:01:41.527000+00:00</td>\n",
       "      <td>2022</td>\n",
       "      <td>5</td>\n",
       "      <td>jupyter notebook r kernel not starting</td>\n",
       "    </tr>\n",
       "    <tr>\n",
       "      <th>8</th>\n",
       "      <td>Searched for hello world in r</td>\n",
       "      <td>2022-05-18 22:58:12.888000+00:00</td>\n",
       "      <td>2022</td>\n",
       "      <td>5</td>\n",
       "      <td>hello world in r</td>\n",
       "    </tr>\n",
       "    <tr>\n",
       "      <th>10</th>\n",
       "      <td>Searched for add r to jupyter notebook</td>\n",
       "      <td>2022-05-18 22:51:09.599000+00:00</td>\n",
       "      <td>2022</td>\n",
       "      <td>5</td>\n",
       "      <td>add r to jupyter notebook</td>\n",
       "    </tr>\n",
       "  </tbody>\n",
       "</table>\n",
       "</div>"
      ],
      "text/plain": [
       "                                                title  \\\n",
       "2   Searched for dyld: Library not loaded: @rpath/...   \n",
       "4   Searched for jupyter notebook r kernel not sta...   \n",
       "6   Searched for jupyter notebook r kernel not sta...   \n",
       "8                       Searched for hello world in r   \n",
       "10             Searched for add r to jupyter notebook   \n",
       "\n",
       "                               time  year  month  \\\n",
       "2  2022-05-18 23:09:14.320000+00:00  2022      5   \n",
       "4  2022-05-18 23:02:56.912000+00:00  2022      5   \n",
       "6  2022-05-18 23:01:41.527000+00:00  2022      5   \n",
       "8  2022-05-18 22:58:12.888000+00:00  2022      5   \n",
       "10 2022-05-18 22:51:09.599000+00:00  2022      5   \n",
       "\n",
       "                                         search terms  \n",
       "2   dyld: Library not loaded: @rpath/libreadline.6...  \n",
       "4   jupyter notebook r kernel not starting Error o...  \n",
       "6              jupyter notebook r kernel not starting  \n",
       "8                                    hello world in r  \n",
       "10                          add r to jupyter notebook  "
      ]
     },
     "execution_count": 28,
     "metadata": {},
     "output_type": "execute_result"
    }
   ],
   "source": [
    "df = df.loc[(df['search_terms'].notnull())]\n",
    "df.head()"
   ]
  },
  {
   "cell_type": "code",
   "execution_count": 34,
   "id": "f0fcaa08",
   "metadata": {
    "slideshow": {
     "slide_type": "slide"
    }
   },
   "outputs": [
    {
     "name": "stdout",
     "output_type": "stream",
     "text": [
      "Collecting nltk\n",
      "  Downloading nltk-3.7-py3-none-any.whl (1.5 MB)\n",
      "\u001b[K     |████████████████████████████████| 1.5 MB 765 kB/s eta 0:00:01\n",
      "\u001b[?25hCollecting joblib\n",
      "  Downloading joblib-1.1.0-py2.py3-none-any.whl (306 kB)\n",
      "\u001b[K     |████████████████████████████████| 306 kB 802 kB/s eta 0:00:01\n",
      "\u001b[?25hCollecting tqdm\n",
      "  Downloading tqdm-4.64.0-py2.py3-none-any.whl (78 kB)\n",
      "\u001b[K     |████████████████████████████████| 78 kB 888 kB/s eta 0:00:01\n",
      "\u001b[?25hCollecting click\n",
      "  Downloading click-8.1.3-py3-none-any.whl (96 kB)\n",
      "\u001b[K     |████████████████████████████████| 96 kB 944 kB/s eta 0:00:01\n",
      "\u001b[?25hCollecting regex>=2021.8.3\n",
      "  Downloading regex-2022.4.24-cp39-cp39-macosx_10_9_x86_64.whl (288 kB)\n",
      "\u001b[K     |████████████████████████████████| 288 kB 801 kB/s eta 0:00:01\n",
      "\u001b[?25hInstalling collected packages: tqdm, regex, joblib, click, nltk\n",
      "Successfully installed click-8.1.3 joblib-1.1.0 nltk-3.7 regex-2022.4.24 tqdm-4.64.0\n"
     ]
    }
   ],
   "source": [
    "!pip install nltk"
   ]
  },
  {
   "cell_type": "code",
   "execution_count": 63,
   "id": "f56b6611",
   "metadata": {
    "slideshow": {
     "slide_type": "slide"
    }
   },
   "outputs": [
    {
     "name": "stderr",
     "output_type": "stream",
     "text": [
      "[nltk_data] Downloading package stopwords to /Users/emt/nltk_data...\n",
      "[nltk_data]   Package stopwords is already up-to-date!\n",
      "[nltk_data] Downloading package punkt to /Users/emt/nltk_data...\n",
      "[nltk_data]   Package punkt is already up-to-date!\n"
     ]
    },
    {
     "data": {
      "text/plain": [
       "True"
      ]
     },
     "execution_count": 63,
     "metadata": {},
     "output_type": "execute_result"
    }
   ],
   "source": [
    "import nltk\n",
    "from nltk import word_tokenize\n",
    "from nltk.corpus import stopwords\n",
    "from nltk.probability import FreqDist\n",
    "nltk.download('stopwords')\n",
    "nltk.download('punkt')"
   ]
  },
  {
   "cell_type": "code",
   "execution_count": 41,
   "id": "5552f03d",
   "metadata": {
    "slideshow": {
     "slide_type": "slide"
    }
   },
   "outputs": [
    {
     "data": {
      "text/html": [
       "<div>\n",
       "<style scoped>\n",
       "    .dataframe tbody tr th:only-of-type {\n",
       "        vertical-align: middle;\n",
       "    }\n",
       "\n",
       "    .dataframe tbody tr th {\n",
       "        vertical-align: top;\n",
       "    }\n",
       "\n",
       "    .dataframe thead th {\n",
       "        text-align: right;\n",
       "    }\n",
       "</style>\n",
       "<table border=\"1\" class=\"dataframe\">\n",
       "  <thead>\n",
       "    <tr style=\"text-align: right;\">\n",
       "      <th></th>\n",
       "      <th>title</th>\n",
       "      <th>time</th>\n",
       "      <th>year</th>\n",
       "      <th>month</th>\n",
       "      <th>search terms</th>\n",
       "      <th>term_tokenized</th>\n",
       "    </tr>\n",
       "  </thead>\n",
       "  <tbody>\n",
       "    <tr>\n",
       "      <th>2</th>\n",
       "      <td>Searched for dyld: Library not loaded: @rpath/...</td>\n",
       "      <td>2022-05-18 23:09:14.320000+00:00</td>\n",
       "      <td>2022</td>\n",
       "      <td>5</td>\n",
       "      <td>dyld: library not loaded: @rpath/libreadline.6...</td>\n",
       "      <td>[dyld, :, library, not, loaded, :, @, rpath/li...</td>\n",
       "    </tr>\n",
       "    <tr>\n",
       "      <th>4</th>\n",
       "      <td>Searched for jupyter notebook r kernel not sta...</td>\n",
       "      <td>2022-05-18 23:02:56.912000+00:00</td>\n",
       "      <td>2022</td>\n",
       "      <td>5</td>\n",
       "      <td>jupyter notebook r kernel not starting error o...</td>\n",
       "      <td>[jupyter, notebook, r, kernel, not, starting, ...</td>\n",
       "    </tr>\n",
       "    <tr>\n",
       "      <th>6</th>\n",
       "      <td>Searched for jupyter notebook r kernel not sta...</td>\n",
       "      <td>2022-05-18 23:01:41.527000+00:00</td>\n",
       "      <td>2022</td>\n",
       "      <td>5</td>\n",
       "      <td>jupyter notebook r kernel not starting</td>\n",
       "      <td>[jupyter, notebook, r, kernel, not, starting]</td>\n",
       "    </tr>\n",
       "    <tr>\n",
       "      <th>8</th>\n",
       "      <td>Searched for hello world in r</td>\n",
       "      <td>2022-05-18 22:58:12.888000+00:00</td>\n",
       "      <td>2022</td>\n",
       "      <td>5</td>\n",
       "      <td>hello world in r</td>\n",
       "      <td>[hello, world, in, r]</td>\n",
       "    </tr>\n",
       "    <tr>\n",
       "      <th>10</th>\n",
       "      <td>Searched for add r to jupyter notebook</td>\n",
       "      <td>2022-05-18 22:51:09.599000+00:00</td>\n",
       "      <td>2022</td>\n",
       "      <td>5</td>\n",
       "      <td>add r to jupyter notebook</td>\n",
       "      <td>[add, r, to, jupyter, notebook]</td>\n",
       "    </tr>\n",
       "  </tbody>\n",
       "</table>\n",
       "</div>"
      ],
      "text/plain": [
       "                                                title  \\\n",
       "2   Searched for dyld: Library not loaded: @rpath/...   \n",
       "4   Searched for jupyter notebook r kernel not sta...   \n",
       "6   Searched for jupyter notebook r kernel not sta...   \n",
       "8                       Searched for hello world in r   \n",
       "10             Searched for add r to jupyter notebook   \n",
       "\n",
       "                               time  year  month  \\\n",
       "2  2022-05-18 23:09:14.320000+00:00  2022      5   \n",
       "4  2022-05-18 23:02:56.912000+00:00  2022      5   \n",
       "6  2022-05-18 23:01:41.527000+00:00  2022      5   \n",
       "8  2022-05-18 22:58:12.888000+00:00  2022      5   \n",
       "10 2022-05-18 22:51:09.599000+00:00  2022      5   \n",
       "\n",
       "                                         search terms  \\\n",
       "2   dyld: library not loaded: @rpath/libreadline.6...   \n",
       "4   jupyter notebook r kernel not starting error o...   \n",
       "6              jupyter notebook r kernel not starting   \n",
       "8                                    hello world in r   \n",
       "10                          add r to jupyter notebook   \n",
       "\n",
       "                                       term_tokenized  \n",
       "2   [dyld, :, library, not, loaded, :, @, rpath/li...  \n",
       "4   [jupyter, notebook, r, kernel, not, starting, ...  \n",
       "6       [jupyter, notebook, r, kernel, not, starting]  \n",
       "8                               [hello, world, in, r]  \n",
       "10                    [add, r, to, jupyter, notebook]  "
      ]
     },
     "execution_count": 41,
     "metadata": {},
     "output_type": "execute_result"
    }
   ],
   "source": [
    "def tokenize(txt):\n",
    "    words = word_tokenize(txt)\n",
    "    return words\n",
    "\n",
    "df['term_tokenized'] = df.apply(lambda row: tokenize(row['search_terms'].lower()), axis=1).copy()\n",
    "df.tail()"
   ]
  },
  {
   "cell_type": "code",
   "execution_count": 50,
   "id": "77900172",
   "metadata": {
    "slideshow": {
     "slide_type": "slide"
    }
   },
   "outputs": [
    {
     "name": "stdout",
     "output_type": "stream",
     "text": [
      "['i', 'me', 'my', 'myself', 'we', 'our', 'ours', 'ourselves', 'you', \"you're\", \"you've\", \"you'll\", \"you'd\", 'your', 'yours', 'yourself', 'yourselves', 'he', 'him', 'his', 'himself', 'she', \"she's\", 'her', 'hers', 'herself', 'it', \"it's\", 'its', 'itself', 'they', 'them', 'their', 'theirs', 'themselves', 'what', 'which', 'who', 'whom', 'this', 'that', \"that'll\", 'these', 'those', 'am', 'is', 'are', 'was', 'were', 'be', 'been', 'being', 'have', 'has', 'had', 'having', 'do', 'does', 'did', 'doing', 'a', 'an', 'the', 'and', 'but', 'if', 'or', 'because', 'as', 'until', 'while', 'of', 'at', 'by', 'for', 'with', 'about', 'against', 'between', 'into', 'through', 'during', 'before', 'after', 'above', 'below', 'to', 'from', 'up', 'down', 'in', 'out', 'on', 'off', 'over', 'under', 'again', 'further', 'then', 'once', 'here', 'there', 'when', 'where', 'why', 'how', 'all', 'any', 'both', 'each', 'few', 'more', 'most', 'other', 'some', 'such', 'no', 'nor', 'not', 'only', 'own', 'same', 'so', 'than', 'too', 'very', 's', 't', 'can', 'will', 'just', 'don', \"don't\", 'should', \"should've\", 'now', 'd', 'll', 'm', 'o', 're', 've', 'y', 'ain', 'aren', \"aren't\", 'couldn', \"couldn't\", 'didn', \"didn't\", 'doesn', \"doesn't\", 'hadn', \"hadn't\", 'hasn', \"hasn't\", 'haven', \"haven't\", 'isn', \"isn't\", 'ma', 'mightn', \"mightn't\", 'mustn', \"mustn't\", 'needn', \"needn't\", 'shan', \"shan't\", 'shouldn', \"shouldn't\", 'wasn', \"wasn't\", 'weren', \"weren't\", 'won', \"won't\", 'wouldn', \"wouldn't\"]\n"
     ]
    }
   ],
   "source": [
    "#clean the data by taking out extremely common words in your language(s)\n",
    "\n",
    "#List of stopwords\n",
    "stopwords = stopwords.words(\"english\")\n",
    "print(stopwords)"
   ]
  },
  {
   "cell_type": "code",
   "execution_count": 51,
   "id": "363c75da",
   "metadata": {
    "slideshow": {
     "slide_type": "slide"
    }
   },
   "outputs": [
    {
     "data": {
      "text/html": [
       "<div>\n",
       "<style scoped>\n",
       "    .dataframe tbody tr th:only-of-type {\n",
       "        vertical-align: middle;\n",
       "    }\n",
       "\n",
       "    .dataframe tbody tr th {\n",
       "        vertical-align: top;\n",
       "    }\n",
       "\n",
       "    .dataframe thead th {\n",
       "        text-align: right;\n",
       "    }\n",
       "</style>\n",
       "<table border=\"1\" class=\"dataframe\">\n",
       "  <thead>\n",
       "    <tr style=\"text-align: right;\">\n",
       "      <th></th>\n",
       "      <th>title</th>\n",
       "      <th>time</th>\n",
       "      <th>year</th>\n",
       "      <th>month</th>\n",
       "      <th>search terms</th>\n",
       "      <th>term_tokenized</th>\n",
       "      <th>term_tokenized_no_punct</th>\n",
       "      <th>term_cleaned</th>\n",
       "    </tr>\n",
       "  </thead>\n",
       "  <tbody>\n",
       "    <tr>\n",
       "      <th>50215</th>\n",
       "      <td>Searched for 20 kg in poinds</td>\n",
       "      <td>2014-04-04 06:08:33.201000+00:00</td>\n",
       "      <td>2014</td>\n",
       "      <td>4</td>\n",
       "      <td>20 kg in poinds</td>\n",
       "      <td>[20, kg, in, poinds]</td>\n",
       "      <td>[kg, in, poinds]</td>\n",
       "      <td>[kg, poinds]</td>\n",
       "    </tr>\n",
       "    <tr>\n",
       "      <th>50217</th>\n",
       "      <td>Searched for erasmus university map</td>\n",
       "      <td>2014-04-04 06:07:20.343000+00:00</td>\n",
       "      <td>2014</td>\n",
       "      <td>4</td>\n",
       "      <td>erasmus university map</td>\n",
       "      <td>[erasmus, university, map]</td>\n",
       "      <td>[erasmus, university, map]</td>\n",
       "      <td>[erasmus, university, map]</td>\n",
       "    </tr>\n",
       "    <tr>\n",
       "      <th>50218</th>\n",
       "      <td>Searched for Chicco - Lite Way Buggy</td>\n",
       "      <td>2014-04-03 15:46:21.812000+00:00</td>\n",
       "      <td>2014</td>\n",
       "      <td>4</td>\n",
       "      <td>chicco - lite way buggy</td>\n",
       "      <td>[chicco, -, lite, way, buggy]</td>\n",
       "      <td>[chicco, lite, way, buggy]</td>\n",
       "      <td>[chicco, lite, way, buggy]</td>\n",
       "    </tr>\n",
       "    <tr>\n",
       "      <th>50222</th>\n",
       "      <td>Searched for bo xilai</td>\n",
       "      <td>2014-04-03 08:20:11.424000+00:00</td>\n",
       "      <td>2014</td>\n",
       "      <td>4</td>\n",
       "      <td>bo xilai</td>\n",
       "      <td>[bo, xilai]</td>\n",
       "      <td>[bo, xilai]</td>\n",
       "      <td>[bo, xilai]</td>\n",
       "    </tr>\n",
       "    <tr>\n",
       "      <th>50223</th>\n",
       "      <td>Searched for 10 megabytes in bytes</td>\n",
       "      <td>2014-04-02 14:39:42.060000+00:00</td>\n",
       "      <td>2014</td>\n",
       "      <td>4</td>\n",
       "      <td>10 megabytes in bytes</td>\n",
       "      <td>[10, megabytes, in, bytes]</td>\n",
       "      <td>[megabytes, in, bytes]</td>\n",
       "      <td>[megabytes, bytes]</td>\n",
       "    </tr>\n",
       "  </tbody>\n",
       "</table>\n",
       "</div>"
      ],
      "text/plain": [
       "                                      title                             time  \\\n",
       "50215          Searched for 20 kg in poinds 2014-04-04 06:08:33.201000+00:00   \n",
       "50217   Searched for erasmus university map 2014-04-04 06:07:20.343000+00:00   \n",
       "50218  Searched for Chicco - Lite Way Buggy 2014-04-03 15:46:21.812000+00:00   \n",
       "50222                 Searched for bo xilai 2014-04-03 08:20:11.424000+00:00   \n",
       "50223    Searched for 10 megabytes in bytes 2014-04-02 14:39:42.060000+00:00   \n",
       "\n",
       "       year  month             search terms                 term_tokenized  \\\n",
       "50215  2014      4          20 kg in poinds           [20, kg, in, poinds]   \n",
       "50217  2014      4   erasmus university map     [erasmus, university, map]   \n",
       "50218  2014      4  chicco - lite way buggy  [chicco, -, lite, way, buggy]   \n",
       "50222  2014      4                 bo xilai                    [bo, xilai]   \n",
       "50223  2014      4    10 megabytes in bytes     [10, megabytes, in, bytes]   \n",
       "\n",
       "          term_tokenized_no_punct                term_cleaned  \n",
       "50215            [kg, in, poinds]                [kg, poinds]  \n",
       "50217  [erasmus, university, map]  [erasmus, university, map]  \n",
       "50218  [chicco, lite, way, buggy]  [chicco, lite, way, buggy]  \n",
       "50222                 [bo, xilai]                 [bo, xilai]  \n",
       "50223      [megabytes, in, bytes]          [megabytes, bytes]  "
      ]
     },
     "execution_count": 51,
     "metadata": {},
     "output_type": "execute_result"
    }
   ],
   "source": [
    "#take out stop words & punctuation\n",
    "\n",
    "def rm_punct(all_words):\n",
    "    #Empty list to store words:\n",
    "    words_no_punct = []\n",
    "\n",
    "    #Removing punctuation marks :\n",
    "    for w in all_words:\n",
    "        if w not in stopwords:\n",
    "            if w.isalpha():\n",
    "                words_no_punct.append(w.lower())\n",
    "    return words_no_punct\n",
    "\n",
    "df['term_cleaned'] = df.apply(lambda row: rm_punct(row['term_tokenized']), axis=1).copy()\n",
    "df.tail()"
   ]
  },
  {
   "cell_type": "markdown",
   "id": "0a5d3f5e",
   "metadata": {
    "slideshow": {
     "slide_type": "slide"
    }
   },
   "source": [
    "# Select a random month"
   ]
  },
  {
   "cell_type": "code",
   "execution_count": 54,
   "id": "cb30bf77",
   "metadata": {
    "slideshow": {
     "slide_type": "fragment"
    }
   },
   "outputs": [
    {
     "data": {
      "text/html": [
       "<div>\n",
       "<style scoped>\n",
       "    .dataframe tbody tr th:only-of-type {\n",
       "        vertical-align: middle;\n",
       "    }\n",
       "\n",
       "    .dataframe tbody tr th {\n",
       "        vertical-align: top;\n",
       "    }\n",
       "\n",
       "    .dataframe thead th {\n",
       "        text-align: right;\n",
       "    }\n",
       "</style>\n",
       "<table border=\"1\" class=\"dataframe\">\n",
       "  <thead>\n",
       "    <tr style=\"text-align: right;\">\n",
       "      <th></th>\n",
       "      <th>title</th>\n",
       "      <th>time</th>\n",
       "      <th>year</th>\n",
       "      <th>month</th>\n",
       "      <th>search terms</th>\n",
       "      <th>term_tokenized</th>\n",
       "      <th>term_tokenized_no_punct</th>\n",
       "      <th>term_cleaned</th>\n",
       "    </tr>\n",
       "  </thead>\n",
       "  <tbody>\n",
       "    <tr>\n",
       "      <th>44579</th>\n",
       "      <td>Searched for d3 time interface examples</td>\n",
       "      <td>2015-05-31 19:02:32.222000+00:00</td>\n",
       "      <td>2015</td>\n",
       "      <td>5</td>\n",
       "      <td>d3 time interface examples</td>\n",
       "      <td>[d3, time, interface, examples]</td>\n",
       "      <td>[time, interface, examples]</td>\n",
       "      <td>[time, interface, examples]</td>\n",
       "    </tr>\n",
       "    <tr>\n",
       "      <th>44580</th>\n",
       "      <td>Searched for webcare</td>\n",
       "      <td>2015-05-31 12:16:32.482000+00:00</td>\n",
       "      <td>2015</td>\n",
       "      <td>5</td>\n",
       "      <td>webcare</td>\n",
       "      <td>[webcare]</td>\n",
       "      <td>[webcare]</td>\n",
       "      <td>[webcare]</td>\n",
       "    </tr>\n",
       "    <tr>\n",
       "      <th>44582</th>\n",
       "      <td>Searched for g. puglisi american university</td>\n",
       "      <td>2015-05-30 11:38:15.827000+00:00</td>\n",
       "      <td>2015</td>\n",
       "      <td>5</td>\n",
       "      <td>g. puglisi american university</td>\n",
       "      <td>[g., puglisi, american, university]</td>\n",
       "      <td>[puglisi, american, university]</td>\n",
       "      <td>[puglisi, american, university]</td>\n",
       "    </tr>\n",
       "    <tr>\n",
       "      <th>44583</th>\n",
       "      <td>Searched for G. Puglisi</td>\n",
       "      <td>2015-05-30 11:37:53.643000+00:00</td>\n",
       "      <td>2015</td>\n",
       "      <td>5</td>\n",
       "      <td>g. puglisi</td>\n",
       "      <td>[g., puglisi]</td>\n",
       "      <td>[puglisi]</td>\n",
       "      <td>[puglisi]</td>\n",
       "    </tr>\n",
       "    <tr>\n",
       "      <th>44588</th>\n",
       "      <td>Searched for class assignments with wikipedia</td>\n",
       "      <td>2015-05-30 11:17:48.187000+00:00</td>\n",
       "      <td>2015</td>\n",
       "      <td>5</td>\n",
       "      <td>class assignments with wikipedia</td>\n",
       "      <td>[class, assignments, with, wikipedia]</td>\n",
       "      <td>[class, assignments, with, wikipedia]</td>\n",
       "      <td>[class, assignments, wikipedia]</td>\n",
       "    </tr>\n",
       "    <tr>\n",
       "      <th>...</th>\n",
       "      <td>...</td>\n",
       "      <td>...</td>\n",
       "      <td>...</td>\n",
       "      <td>...</td>\n",
       "      <td>...</td>\n",
       "      <td>...</td>\n",
       "      <td>...</td>\n",
       "      <td>...</td>\n",
       "    </tr>\n",
       "    <tr>\n",
       "      <th>45127</th>\n",
       "      <td>Searched for google wallet</td>\n",
       "      <td>2015-05-01 10:52:55.979000+00:00</td>\n",
       "      <td>2015</td>\n",
       "      <td>5</td>\n",
       "      <td>google wallet</td>\n",
       "      <td>[google, wallet]</td>\n",
       "      <td>[google, wallet]</td>\n",
       "      <td>[google, wallet]</td>\n",
       "    </tr>\n",
       "    <tr>\n",
       "      <th>45129</th>\n",
       "      <td>Searched for 'Selfiecity\" the American researc...</td>\n",
       "      <td>2015-05-01 10:40:05.985000+00:00</td>\n",
       "      <td>2015</td>\n",
       "      <td>5</td>\n",
       "      <td>'selfiecity\" the american researchers lev mano...</td>\n",
       "      <td>['selfiecity, '', the, american, researchers, ...</td>\n",
       "      <td>[the, american, researchers, lev, manovich, an...</td>\n",
       "      <td>[american, researchers, lev, manovich, moritz,...</td>\n",
       "    </tr>\n",
       "    <tr>\n",
       "      <th>45131</th>\n",
       "      <td>Searched for trello</td>\n",
       "      <td>2015-05-01 09:22:10.936000+00:00</td>\n",
       "      <td>2015</td>\n",
       "      <td>5</td>\n",
       "      <td>trello</td>\n",
       "      <td>[trello]</td>\n",
       "      <td>[trello]</td>\n",
       "      <td>[trello]</td>\n",
       "    </tr>\n",
       "    <tr>\n",
       "      <th>45132</th>\n",
       "      <td>Searched for maryland county map</td>\n",
       "      <td>2015-05-01 07:13:06.914000+00:00</td>\n",
       "      <td>2015</td>\n",
       "      <td>5</td>\n",
       "      <td>maryland county map</td>\n",
       "      <td>[maryland, county, map]</td>\n",
       "      <td>[maryland, county, map]</td>\n",
       "      <td>[maryland, county, map]</td>\n",
       "    </tr>\n",
       "    <tr>\n",
       "      <th>45133</th>\n",
       "      <td>Searched for montgomery county maryland</td>\n",
       "      <td>2015-05-01 07:12:14.403000+00:00</td>\n",
       "      <td>2015</td>\n",
       "      <td>5</td>\n",
       "      <td>montgomery county maryland</td>\n",
       "      <td>[montgomery, county, maryland]</td>\n",
       "      <td>[montgomery, county, maryland]</td>\n",
       "      <td>[montgomery, county, maryland]</td>\n",
       "    </tr>\n",
       "  </tbody>\n",
       "</table>\n",
       "<p>280 rows × 8 columns</p>\n",
       "</div>"
      ],
      "text/plain": [
       "                                                   title  \\\n",
       "44579            Searched for d3 time interface examples   \n",
       "44580                               Searched for webcare   \n",
       "44582        Searched for g. puglisi american university   \n",
       "44583                            Searched for G. Puglisi   \n",
       "44588      Searched for class assignments with wikipedia   \n",
       "...                                                  ...   \n",
       "45127                         Searched for google wallet   \n",
       "45129  Searched for 'Selfiecity\" the American researc...   \n",
       "45131                                Searched for trello   \n",
       "45132                   Searched for maryland county map   \n",
       "45133            Searched for montgomery county maryland   \n",
       "\n",
       "                                  time  year  month  \\\n",
       "44579 2015-05-31 19:02:32.222000+00:00  2015      5   \n",
       "44580 2015-05-31 12:16:32.482000+00:00  2015      5   \n",
       "44582 2015-05-30 11:38:15.827000+00:00  2015      5   \n",
       "44583 2015-05-30 11:37:53.643000+00:00  2015      5   \n",
       "44588 2015-05-30 11:17:48.187000+00:00  2015      5   \n",
       "...                                ...   ...    ...   \n",
       "45127 2015-05-01 10:52:55.979000+00:00  2015      5   \n",
       "45129 2015-05-01 10:40:05.985000+00:00  2015      5   \n",
       "45131 2015-05-01 09:22:10.936000+00:00  2015      5   \n",
       "45132 2015-05-01 07:13:06.914000+00:00  2015      5   \n",
       "45133 2015-05-01 07:12:14.403000+00:00  2015      5   \n",
       "\n",
       "                                            search terms  \\\n",
       "44579                         d3 time interface examples   \n",
       "44580                                            webcare   \n",
       "44582                     g. puglisi american university   \n",
       "44583                                         g. puglisi   \n",
       "44588                   class assignments with wikipedia   \n",
       "...                                                  ...   \n",
       "45127                                      google wallet   \n",
       "45129  'selfiecity\" the american researchers lev mano...   \n",
       "45131                                             trello   \n",
       "45132                                maryland county map   \n",
       "45133                         montgomery county maryland   \n",
       "\n",
       "                                          term_tokenized  \\\n",
       "44579                    [d3, time, interface, examples]   \n",
       "44580                                          [webcare]   \n",
       "44582                [g., puglisi, american, university]   \n",
       "44583                                      [g., puglisi]   \n",
       "44588              [class, assignments, with, wikipedia]   \n",
       "...                                                  ...   \n",
       "45127                                   [google, wallet]   \n",
       "45129  ['selfiecity, '', the, american, researchers, ...   \n",
       "45131                                           [trello]   \n",
       "45132                            [maryland, county, map]   \n",
       "45133                     [montgomery, county, maryland]   \n",
       "\n",
       "                                 term_tokenized_no_punct  \\\n",
       "44579                        [time, interface, examples]   \n",
       "44580                                          [webcare]   \n",
       "44582                    [puglisi, american, university]   \n",
       "44583                                          [puglisi]   \n",
       "44588              [class, assignments, with, wikipedia]   \n",
       "...                                                  ...   \n",
       "45127                                   [google, wallet]   \n",
       "45129  [the, american, researchers, lev, manovich, an...   \n",
       "45131                                           [trello]   \n",
       "45132                            [maryland, county, map]   \n",
       "45133                     [montgomery, county, maryland]   \n",
       "\n",
       "                                            term_cleaned  \n",
       "44579                        [time, interface, examples]  \n",
       "44580                                          [webcare]  \n",
       "44582                    [puglisi, american, university]  \n",
       "44583                                          [puglisi]  \n",
       "44588                    [class, assignments, wikipedia]  \n",
       "...                                                  ...  \n",
       "45127                                   [google, wallet]  \n",
       "45129  [american, researchers, lev, manovich, moritz,...  \n",
       "45131                                           [trello]  \n",
       "45132                            [maryland, county, map]  \n",
       "45133                     [montgomery, county, maryland]  \n",
       "\n",
       "[280 rows x 8 columns]"
      ]
     },
     "execution_count": 54,
     "metadata": {},
     "output_type": "execute_result"
    }
   ],
   "source": [
    "# get a specific month\n",
    "df_test = df.loc[(df['month'] == 5) & (df['year'] == 2015) & (df['term_cleaned'].notnull())]\n",
    "df_test"
   ]
  },
  {
   "cell_type": "markdown",
   "id": "d30caf44",
   "metadata": {
    "slideshow": {
     "slide_type": "slide"
    }
   },
   "source": [
    "# For this month, glom all of the search terms together"
   ]
  },
  {
   "cell_type": "code",
   "execution_count": 70,
   "id": "5f3cec03",
   "metadata": {
    "slideshow": {
     "slide_type": "fragment"
    }
   },
   "outputs": [],
   "source": [
    "list_of_lists = df_test.term_cleaned.tolist()\n",
    "flat_list = [item for sublist in list_of_lists for item in sublist]\n",
    "as_text = ' '.join(flat_list)"
   ]
  },
  {
   "cell_type": "markdown",
   "id": "c8f33eee",
   "metadata": {
    "slideshow": {
     "slide_type": "fragment"
    }
   },
   "source": [
    "### Now we can see the most comon unigrams of the month"
   ]
  },
  {
   "cell_type": "code",
   "execution_count": 66,
   "id": "ce0f2e4a",
   "metadata": {
    "slideshow": {
     "slide_type": "fragment"
    }
   },
   "outputs": [
    {
     "data": {
      "text/plain": [
       "[('javascript', 22),\n",
       " ('google', 20),\n",
       " ('chrome', 18),\n",
       " ('cloud', 14),\n",
       " ('extension', 12),\n",
       " ('data', 11),\n",
       " ('dc', 10),\n",
       " ('xmlhttprequest', 9),\n",
       " ('wordpress', 9),\n",
       " ('american', 8)]"
      ]
     },
     "execution_count": 66,
     "metadata": {},
     "output_type": "execute_result"
    }
   ],
   "source": [
    "#Frequency distribution :\n",
    "fdist = FreqDist(flat_list)\n",
    "\n",
    "fdist.most_common(10)"
   ]
  },
  {
   "cell_type": "markdown",
   "id": "809e9c3a",
   "metadata": {
    "slideshow": {
     "slide_type": "slide"
    }
   },
   "source": [
    "# No text data presentation is complete without..."
   ]
  },
  {
   "cell_type": "code",
   "execution_count": null,
   "id": "600816d9",
   "metadata": {
    "slideshow": {
     "slide_type": "skip"
    }
   },
   "outputs": [],
   "source": [
    "!pip install wordcloud"
   ]
  },
  {
   "cell_type": "code",
   "execution_count": 72,
   "id": "4c3614cf",
   "metadata": {
    "slideshow": {
     "slide_type": "fragment"
    }
   },
   "outputs": [
    {
     "data": {
      "image/png": "[encoded data removed]",
      "text/plain": [
       "<Figure size 864x864 with 1 Axes>"
      ]
     },
     "metadata": {
      "needs_background": "light"
     },
     "output_type": "display_data"
    }
   ],
   "source": [
    "#Library to form wordcloud :\n",
    "from wordcloud import WordCloud\n",
    "\n",
    "#Library to plot the wordcloud :\n",
    "import matplotlib.pyplot as plt\n",
    "\n",
    "#Generating the wordcloud :\n",
    "wordcloud = WordCloud().generate(as_text)\n",
    "\n",
    "#Plot the wordcloud :\n",
    "plt.figure(figsize = (12, 12)) \n",
    "plt.imshow(wordcloud) \n",
    "\n",
    "#To remove the axis value :\n",
    "plt.axis(\"off\") \n",
    "plt.show()"
   ]
  },
  {
   "cell_type": "markdown",
   "id": "0a04299d",
   "metadata": {
    "slideshow": {
     "slide_type": "slide"
    }
   },
   "source": [
    "# Discuss\n",
    "### (this is a great class activity, btw)\n",
    "### What kinds of questions would you like to answer with this type of dataset?\n",
    "### How can we incorporate this type of data into our research in an ethical and practical way?\n",
    "    https://github.com/ccs-amsterdam/DigitalFootprintsLab"
   ]
  }
 ],
 "metadata": {
  "celltoolbar": "Slideshow",
  "kernelspec": {
   "display_name": "Python 3 (ipykernel)",
   "language": "python",
   "name": "python3"
  },
  "language_info": {
   "codemirror_mode": {
    "name": "ipython",
    "version": 3
   },
   "file_extension": ".py",
   "mimetype": "text/x-python",
   "name": "python",
   "nbconvert_exporter": "python",
   "pygments_lexer": "ipython3",
   "version": "3.9.7"
  }
 },
 "nbformat": 4,
 "nbformat_minor": 5
}

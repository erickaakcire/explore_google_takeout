{
 "cells": [
  {
   "cell_type": "code",
   "execution_count": 1,
   "id": "ee3c78ee",
   "metadata": {
    "slideshow": {
     "slide_type": "skip"
    }
   },
   "outputs": [
    {
     "data": {
      "text/plain": [
       "2"
      ]
     },
     "execution_count": 1,
     "metadata": {},
     "output_type": "execute_result"
    }
   ],
   "source": [
    "#https://rise.readthedocs.io/en/stable/usage.html"
   ]
  },
  {
   "cell_type": "markdown",
   "id": "82325ad3",
   "metadata": {
    "slideshow": {
     "slide_type": "slide"
    }
   },
   "source": [
    "# Breakout Session Goals\n",
    "In this Breakout session we will analyze our own Google Search History Takeouts to gain insights on 1) what we could potentially learn from this data source and 2) what the practical challenges of gathering data would be."
   ]
  },
  {
   "cell_type": "markdown",
   "id": "0827205c",
   "metadata": {
    "slideshow": {
     "slide_type": "slide"
    }
   },
   "source": [
    "# Personal data downloads / takeouts\n",
    "- Came about due to [GDPR](https://gdpr.eu/what-is-gdpr/)\n",
    "- Allows researchers to partner with individuals - data donation approach\n",
    "- Still subject to the data formatting of platforms which could change any time\n",
    "- Can be confusing for participants to accomplish\n",
    "- Can be hard hard for participants to see what data they are donating (and thus provide *informed* consent)"
   ]
  },
  {
   "cell_type": "markdown",
   "id": "b375ca24",
   "metadata": {
    "slideshow": {
     "slide_type": "slide"
    }
   },
   "source": [
    "# Personal data downloads / takeouts\n",
    "- HUGE advantage over other approaches, device agnostic - anywhere one is logged into the platform the data are collected\n",
    "- Historical approach avoids '[hawthorn](https://en.wikipedia.org/wiki/Hawthorne_effect) / observation' effects issues\n",
    "- Single platform - depends how concentrated individuals are to a single platform -- Google Search is widely used and [the search engine market overall is highly concentrated](https://gs.statcounter.com/search-engine-market-share)"
   ]
  },
  {
   "cell_type": "markdown",
   "id": "fbb206bb",
   "metadata": {
    "slideshow": {
     "slide_type": "slide"
    }
   },
   "source": [
    "# Introductions\n",
    "- Depending on what introductions we have already done in the main session: \n",
    "    - Name\n",
    "    - Title\n",
    "    - University\n",
    "    - Your interest in takeouts/search traces\n",
    "    - Any prior experience with related approaches or data?"
   ]
  },
  {
   "cell_type": "markdown",
   "id": "6d339fe7",
   "metadata": {
    "slideshow": {
     "slide_type": "slide"
    }
   },
   "source": [
    "# How to download your search history from Google\n",
    "- Go to [takeout.google.com](https://takeout.google.com)\n",
    "- Click \"Deselect all\" button (so you are not downloading everything which would take a long time!)\n",
    "- Check \"My Activity\"\n",
    "- Click \"multiple formats\" and change from HTML to JSON and click OK\n",
    "- At the bottom of the page click \"Next Step\"\n",
    "- Click \"Create export\""
   ]
  },
  {
   "cell_type": "markdown",
   "id": "9c90f050",
   "metadata": {
    "slideshow": {
     "slide_type": "slide"
    }
   },
   "source": [
    "# How to download your search history from Google\n",
    "\n",
    "- The Export Progress message will say it could take hours or days to complete, but it will only take a few minutes.\n",
    "- You can view your export in progress: [https://takeout.google.com/takeout/downloads](https://takeout.google.com/takeout/downloads) you'll see it available for download soon. You may need to refresh the page.\n",
    "- Click Download"
   ]
  },
  {
   "cell_type": "markdown",
   "id": "e197ee17",
   "metadata": {
    "slideshow": {
     "slide_type": "slide"
    }
   },
   "source": [
    "# How to follow along in Python\n",
    "- If you already know how to clone a github repository and open an ipynb file, here is the repository link: https://github.com/erickaakcire/explore_google_takeout\n",
    "- If not I will show you how to open it in Google Colab (no need to install python, etc.). **Everyone can follow along!**"
   ]
  },
  {
   "cell_type": "markdown",
   "id": "9fae6872",
   "metadata": {
    "slideshow": {
     "slide_type": "subslide"
    }
   },
   "source": [
    "1. Login to Google and go to https://drive.google.com/ \n",
    "2. Create a new Google Colab document by going to New > More > Google Colabratory\n",
    "    - If you do not see a \"Google Colabratory\" option, go to \"Connect more apps\" and choose Google Colabratory\n",
    "    - When you have done this you have created a new blank ipynb python file on Googles servers\n",
    "3. Now we need to import the ipynb file into your new Google Colab document. Go to File > Upload Notebook > click the Github tab. Enter this Github URL: https://github.com/erickaakcire/explore_google_takeout"
   ]
  },
  {
   "cell_type": "markdown",
   "id": "4d8278e5",
   "metadata": {
    "slideshow": {
     "slide_type": "slide"
    }
   },
   "source": [
    "# Load your json file into Pandas\n",
    "- If you are working locally, just change the path to your own\n",
    "- If you are working on Google Colab, first upload the MyActivity.json file that you find in the Search folder to Google Colab. Click on the folder icon on the left, which will open up a file view where you can drag your file. To get the path of this file, click the three dots menu on the right of the file and choose \"copy path\" then just paste what you have inside the quotation marks in the cell below."
   ]
  },
  {
   "cell_type": "code",
   "execution_count": 1,
   "id": "7983238c",
   "metadata": {
    "slideshow": {
     "slide_type": "fragment"
    }
   },
   "outputs": [
    {
     "data": {
      "text/html": [
       "<div>\n",
       "<style scoped>\n",
       "    .dataframe tbody tr th:only-of-type {\n",
       "        vertical-align: middle;\n",
       "    }\n",
       "\n",
       "    .dataframe tbody tr th {\n",
       "        vertical-align: top;\n",
       "    }\n",
       "\n",
       "    .dataframe thead th {\n",
       "        text-align: right;\n",
       "    }\n",
       "</style>\n",
       "<table border=\"1\" class=\"dataframe\">\n",
       "  <thead>\n",
       "    <tr style=\"text-align: right;\">\n",
       "      <th></th>\n",
       "      <th>header</th>\n",
       "      <th>title</th>\n",
       "      <th>titleUrl</th>\n",
       "      <th>time</th>\n",
       "      <th>products</th>\n",
       "      <th>activityControls</th>\n",
       "      <th>locationInfos</th>\n",
       "      <th>details</th>\n",
       "      <th>subtitles</th>\n",
       "    </tr>\n",
       "  </thead>\n",
       "  <tbody>\n",
       "    <tr>\n",
       "      <th>0</th>\n",
       "      <td>Search</td>\n",
       "      <td>Visited How to Add R to Jupyter Notebook ? - G...</td>\n",
       "      <td>https://www.google.com/url?q=https://www.geeks...</td>\n",
       "      <td>2022-05-18T23:13:57.036Z</td>\n",
       "      <td>[Search]</td>\n",
       "      <td>[Web &amp; App Activity]</td>\n",
       "      <td>NaN</td>\n",
       "      <td>NaN</td>\n",
       "      <td>NaN</td>\n",
       "    </tr>\n",
       "    <tr>\n",
       "      <th>1</th>\n",
       "      <td>Search</td>\n",
       "      <td>Visited dyld : Library not loaded: Reason: ima...</td>\n",
       "      <td>https://www.google.com/url?q=https://www.biost...</td>\n",
       "      <td>2022-05-18T23:09:28.840Z</td>\n",
       "      <td>[Search]</td>\n",
       "      <td>[Web &amp; App Activity]</td>\n",
       "      <td>NaN</td>\n",
       "      <td>NaN</td>\n",
       "      <td>NaN</td>\n",
       "    </tr>\n",
       "    <tr>\n",
       "      <th>2</th>\n",
       "      <td>Search</td>\n",
       "      <td>Searched for dyld: Library not loaded: @rpath/...</td>\n",
       "      <td>https://www.google.com/search?q=dyld:+Library+...</td>\n",
       "      <td>2022-05-18T23:09:14.320Z</td>\n",
       "      <td>[Search]</td>\n",
       "      <td>[Web &amp; App Activity]</td>\n",
       "      <td>[{'name': 'At this general area', 'url': 'http...</td>\n",
       "      <td>NaN</td>\n",
       "      <td>NaN</td>\n",
       "    </tr>\n",
       "    <tr>\n",
       "      <th>3</th>\n",
       "      <td>Search</td>\n",
       "      <td>Visited Jupyter Notebook : HTTP 404: Not Found...</td>\n",
       "      <td>https://www.google.com/url?q=https://github.co...</td>\n",
       "      <td>2022-05-18T23:03:00.510Z</td>\n",
       "      <td>[Search]</td>\n",
       "      <td>[Web &amp; App Activity]</td>\n",
       "      <td>NaN</td>\n",
       "      <td>NaN</td>\n",
       "      <td>NaN</td>\n",
       "    </tr>\n",
       "    <tr>\n",
       "      <th>4</th>\n",
       "      <td>Search</td>\n",
       "      <td>Searched for jupyter notebook r kernel not sta...</td>\n",
       "      <td>https://www.google.com/search?q=jupyter+notebo...</td>\n",
       "      <td>2022-05-18T23:02:56.912Z</td>\n",
       "      <td>[Search]</td>\n",
       "      <td>[Web &amp; App Activity]</td>\n",
       "      <td>[{'name': 'At this general area', 'url': 'http...</td>\n",
       "      <td>NaN</td>\n",
       "      <td>NaN</td>\n",
       "    </tr>\n",
       "  </tbody>\n",
       "</table>\n",
       "</div>"
      ],
      "text/plain": [
       "   header                                              title  \\\n",
       "0  Search  Visited How to Add R to Jupyter Notebook ? - G...   \n",
       "1  Search  Visited dyld : Library not loaded: Reason: ima...   \n",
       "2  Search  Searched for dyld: Library not loaded: @rpath/...   \n",
       "3  Search  Visited Jupyter Notebook : HTTP 404: Not Found...   \n",
       "4  Search  Searched for jupyter notebook r kernel not sta...   \n",
       "\n",
       "                                            titleUrl  \\\n",
       "0  https://www.google.com/url?q=https://www.geeks...   \n",
       "1  https://www.google.com/url?q=https://www.biost...   \n",
       "2  https://www.google.com/search?q=dyld:+Library+...   \n",
       "3  https://www.google.com/url?q=https://github.co...   \n",
       "4  https://www.google.com/search?q=jupyter+notebo...   \n",
       "\n",
       "                       time  products      activityControls  \\\n",
       "0  2022-05-18T23:13:57.036Z  [Search]  [Web & App Activity]   \n",
       "1  2022-05-18T23:09:28.840Z  [Search]  [Web & App Activity]   \n",
       "2  2022-05-18T23:09:14.320Z  [Search]  [Web & App Activity]   \n",
       "3  2022-05-18T23:03:00.510Z  [Search]  [Web & App Activity]   \n",
       "4  2022-05-18T23:02:56.912Z  [Search]  [Web & App Activity]   \n",
       "\n",
       "                                       locationInfos details subtitles  \n",
       "0                                                NaN     NaN       NaN  \n",
       "1                                                NaN     NaN       NaN  \n",
       "2  [{'name': 'At this general area', 'url': 'http...     NaN       NaN  \n",
       "3                                                NaN     NaN       NaN  \n",
       "4  [{'name': 'At this general area', 'url': 'http...     NaN       NaN  "
      ]
     },
     "execution_count": 1,
     "metadata": {},
     "output_type": "execute_result"
    }
   ],
   "source": [
    "import pandas as pd\n",
    "df = pd.read_json(\"/Users/emt/Downloads/Takeout 6/My Activity/Search/MyActivity.json\")\n",
    "df.head()"
   ]
  },
  {
   "cell_type": "markdown",
   "id": "cb64f469",
   "metadata": {
    "slideshow": {
     "slide_type": "slide"
    }
   },
   "source": [
    "# Goal\n",
    "\n",
    "## Display frequent search terms (unigrams) (overall, by month)\n",
    "\n",
    "1. \"searched for\" and \"visited\" record types must be distinguished in a field\n",
    "2. Extract the month/year as a variable\n",
    "3. Lower case the title field, take out punctuation, split by space to create a clean search words array\n",
    "4. Remove stop words for your language(s)\n",
    "5. Group by month and view the top X words per month"
   ]
  },
  {
   "cell_type": "markdown",
   "id": "ac5a27e2",
   "metadata": {
    "slideshow": {
     "slide_type": "slide"
    }
   },
   "source": [
    "# First, general exploration"
   ]
  },
  {
   "cell_type": "code",
   "execution_count": 6,
   "id": "2fad96ee",
   "metadata": {
    "slideshow": {
     "slide_type": "fragment"
    }
   },
   "outputs": [
    {
     "data": {
      "text/html": [
       "<div>\n",
       "<style scoped>\n",
       "    .dataframe tbody tr th:only-of-type {\n",
       "        vertical-align: middle;\n",
       "    }\n",
       "\n",
       "    .dataframe tbody tr th {\n",
       "        vertical-align: top;\n",
       "    }\n",
       "\n",
       "    .dataframe thead th {\n",
       "        text-align: right;\n",
       "    }\n",
       "</style>\n",
       "<table border=\"1\" class=\"dataframe\">\n",
       "  <thead>\n",
       "    <tr style=\"text-align: right;\">\n",
       "      <th></th>\n",
       "      <th>header</th>\n",
       "      <th>title</th>\n",
       "      <th>titleUrl</th>\n",
       "      <th>time</th>\n",
       "      <th>products</th>\n",
       "      <th>activityControls</th>\n",
       "      <th>locationInfos</th>\n",
       "      <th>details</th>\n",
       "      <th>subtitles</th>\n",
       "    </tr>\n",
       "  </thead>\n",
       "  <tbody>\n",
       "    <tr>\n",
       "      <th>50219</th>\n",
       "      <td>Search</td>\n",
       "      <td>Visited http://sinosphere.blogs.nytimes.com/20...</td>\n",
       "      <td>https://www.google.com/url?q=http://sinosphere...</td>\n",
       "      <td>2014-04-03T08:20:26.348Z</td>\n",
       "      <td>[Search]</td>\n",
       "      <td>[Web &amp; App Activity]</td>\n",
       "      <td>NaN</td>\n",
       "      <td>NaN</td>\n",
       "      <td>NaN</td>\n",
       "    </tr>\n",
       "    <tr>\n",
       "      <th>50220</th>\n",
       "      <td>Search</td>\n",
       "      <td>Visited http://en.wikipedia.org/wiki/Bo_Xilai</td>\n",
       "      <td>https://www.google.com/url?q=http://en.wikiped...</td>\n",
       "      <td>2014-04-03T08:20:22.179Z</td>\n",
       "      <td>[Search]</td>\n",
       "      <td>[Web &amp; App Activity]</td>\n",
       "      <td>NaN</td>\n",
       "      <td>NaN</td>\n",
       "      <td>NaN</td>\n",
       "    </tr>\n",
       "    <tr>\n",
       "      <th>50221</th>\n",
       "      <td>Search</td>\n",
       "      <td>Visited http://www.bbc.com/news/world-asia-chi...</td>\n",
       "      <td>https://www.google.com/url?q=http://www.bbc.co...</td>\n",
       "      <td>2014-04-03T08:20:20.328Z</td>\n",
       "      <td>[Search]</td>\n",
       "      <td>[Web &amp; App Activity]</td>\n",
       "      <td>NaN</td>\n",
       "      <td>NaN</td>\n",
       "      <td>NaN</td>\n",
       "    </tr>\n",
       "    <tr>\n",
       "      <th>50222</th>\n",
       "      <td>Search</td>\n",
       "      <td>Searched for bo xilai</td>\n",
       "      <td>https://www.google.com/search?q=bo+xilai</td>\n",
       "      <td>2014-04-03T08:20:11.424Z</td>\n",
       "      <td>[Search]</td>\n",
       "      <td>[Web &amp; App Activity]</td>\n",
       "      <td>NaN</td>\n",
       "      <td>NaN</td>\n",
       "      <td>NaN</td>\n",
       "    </tr>\n",
       "    <tr>\n",
       "      <th>50223</th>\n",
       "      <td>Search</td>\n",
       "      <td>Searched for 10 megabytes in bytes</td>\n",
       "      <td>https://www.google.com/search?q=10+megabytes+i...</td>\n",
       "      <td>2014-04-02T14:39:42.060Z</td>\n",
       "      <td>[Search]</td>\n",
       "      <td>[Web &amp; App Activity]</td>\n",
       "      <td>NaN</td>\n",
       "      <td>NaN</td>\n",
       "      <td>NaN</td>\n",
       "    </tr>\n",
       "  </tbody>\n",
       "</table>\n",
       "</div>"
      ],
      "text/plain": [
       "       header                                              title  \\\n",
       "50219  Search  Visited http://sinosphere.blogs.nytimes.com/20...   \n",
       "50220  Search      Visited http://en.wikipedia.org/wiki/Bo_Xilai   \n",
       "50221  Search  Visited http://www.bbc.com/news/world-asia-chi...   \n",
       "50222  Search                              Searched for bo xilai   \n",
       "50223  Search                 Searched for 10 megabytes in bytes   \n",
       "\n",
       "                                                titleUrl  \\\n",
       "50219  https://www.google.com/url?q=http://sinosphere...   \n",
       "50220  https://www.google.com/url?q=http://en.wikiped...   \n",
       "50221  https://www.google.com/url?q=http://www.bbc.co...   \n",
       "50222           https://www.google.com/search?q=bo+xilai   \n",
       "50223  https://www.google.com/search?q=10+megabytes+i...   \n",
       "\n",
       "                           time  products      activityControls locationInfos  \\\n",
       "50219  2014-04-03T08:20:26.348Z  [Search]  [Web & App Activity]           NaN   \n",
       "50220  2014-04-03T08:20:22.179Z  [Search]  [Web & App Activity]           NaN   \n",
       "50221  2014-04-03T08:20:20.328Z  [Search]  [Web & App Activity]           NaN   \n",
       "50222  2014-04-03T08:20:11.424Z  [Search]  [Web & App Activity]           NaN   \n",
       "50223  2014-04-02T14:39:42.060Z  [Search]  [Web & App Activity]           NaN   \n",
       "\n",
       "      details subtitles  \n",
       "50219     NaN       NaN  \n",
       "50220     NaN       NaN  \n",
       "50221     NaN       NaN  \n",
       "50222     NaN       NaN  \n",
       "50223     NaN       NaN  "
      ]
     },
     "execution_count": 6,
     "metadata": {},
     "output_type": "execute_result"
    }
   ],
   "source": [
    "df.tail()"
   ]
  },
  {
   "cell_type": "code",
   "execution_count": 2,
   "id": "28331ac6",
   "metadata": {
    "slideshow": {
     "slide_type": "fragment"
    }
   },
   "outputs": [
    {
     "data": {
      "text/plain": [
       "(50224, 9)"
      ]
     },
     "execution_count": 2,
     "metadata": {},
     "output_type": "execute_result"
    }
   ],
   "source": [
    "df.shape"
   ]
  },
  {
   "cell_type": "code",
   "execution_count": 5,
   "id": "87425aef",
   "metadata": {
    "slideshow": {
     "slide_type": "slide"
    }
   },
   "outputs": [
    {
     "name": "stdout",
     "output_type": "stream",
     "text": [
      "<class 'pandas.core.frame.DataFrame'>\n",
      "RangeIndex: 50224 entries, 0 to 50223\n",
      "Data columns (total 9 columns):\n",
      " #   Column            Non-Null Count  Dtype \n",
      "---  ------            --------------  ----- \n",
      " 0   header            50224 non-null  object\n",
      " 1   title             50224 non-null  object\n",
      " 2   titleUrl          50019 non-null  object\n",
      " 3   time              50224 non-null  object\n",
      " 4   products          50224 non-null  object\n",
      " 5   activityControls  50224 non-null  object\n",
      " 6   locationInfos     19892 non-null  object\n",
      " 7   details           71 non-null     object\n",
      " 8   subtitles         11 non-null     object\n",
      "dtypes: object(9)\n",
      "memory usage: 3.4+ MB\n"
     ]
    }
   ],
   "source": [
    "df.info()"
   ]
  },
  {
   "cell_type": "markdown",
   "id": "72bcec8e",
   "metadata": {
    "slideshow": {
     "slide_type": "fragment"
    }
   },
   "source": [
    "# here we see that the time is not a timestamp"
   ]
  },
  {
   "cell_type": "markdown",
   "id": "c4ec2bf6",
   "metadata": {
    "slideshow": {
     "slide_type": "slide"
    }
   },
   "source": [
    "\n"
   ]
  },
  {
   "cell_type": "markdown",
   "id": "42a93f98",
   "metadata": {
    "slideshow": {
     "slide_type": "slide"
    }
   },
   "source": [
    "\n",
    "\n"
   ]
  }
 ],
 "metadata": {
  "celltoolbar": "Slideshow",
  "kernelspec": {
   "display_name": "Python 3 (ipykernel)",
   "language": "python",
   "name": "python3"
  },
  "language_info": {
   "codemirror_mode": {
    "name": "ipython",
    "version": 3
   },
   "file_extension": ".py",
   "mimetype": "text/x-python",
   "name": "python",
   "nbconvert_exporter": "python",
   "pygments_lexer": "ipython3",
   "version": "3.9.7"
  }
 },
 "nbformat": 4,
 "nbformat_minor": 5
}

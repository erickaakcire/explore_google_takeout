{
 "cells": [
  {
   "cell_type": "code",
   "execution_count": 1,
   "id": "ee3c78ee",
   "metadata": {
    "slideshow": {
     "slide_type": "skip"
    }
   },
   "outputs": [
    {
     "data": {
      "text/plain": [
       "2"
      ]
     },
     "execution_count": 1,
     "metadata": {},
     "output_type": "execute_result"
    }
   ],
   "source": [
    "#https://rise.readthedocs.io/en/stable/usage.html"
   ]
  },
  {
   "cell_type": "markdown",
   "id": "82325ad3",
   "metadata": {
    "slideshow": {
     "slide_type": "slide"
    }
   },
   "source": [
    "# Tutorial Goals\n",
    "In this tutorial we will analyze our own Google Search History Takeouts to gain insights on 1) what we could potentially learn from this data source and 2) what the practical challenges of gathering data would be."
   ]
  },
  {
   "cell_type": "markdown",
   "id": "0827205c",
   "metadata": {
    "slideshow": {
     "slide_type": "slide"
    }
   },
   "source": [
    "# Personal data downloads / takeouts\n",
    "- Came about due to [GDPR](https://gdpr.eu/what-is-gdpr/)\n",
    "- Allows researchers to partner with individuals - data donation approach\n",
    "- Still subject to the data formatting of platforms which could change any time\n",
    "- Can be confusing for participants to accomplish\n",
    "- Can be hard hard for participants to see what data they are donating (and thus provide *informed* consent)"
   ]
  },
  {
   "cell_type": "markdown",
   "id": "b375ca24",
   "metadata": {
    "slideshow": {
     "slide_type": "slide"
    }
   },
   "source": [
    "# Personal data downloads / takeouts\n",
    "- HUGE advantage over other approaches, device agnostic - anywhere one is logged into the platform the data are collected\n",
    "- Historical approach avoids '[hawthorn](https://en.wikipedia.org/wiki/Hawthorne_effect) / observation' effects issues\n",
    "- Single platform - depends how concentrated individuals are to a single platform -- Google Search is widely used and [the search engine market overall is highly concentrated](https://gs.statcounter.com/search-engine-market-share)"
   ]
  },
  {
   "cell_type": "markdown",
   "id": "fbb206bb",
   "metadata": {
    "slideshow": {
     "slide_type": "slide"
    }
   },
   "source": [
    "# Introductions\n",
    "- Depending on what introductions we have already done in the main session: \n",
    "    - Name\n",
    "    - Title\n",
    "    - University\n",
    "    - Your interest in takeouts/search traces\n",
    "    - Any prior experience with related approaches or data?"
   ]
  },
  {
   "cell_type": "markdown",
   "id": "6d339fe7",
   "metadata": {
    "slideshow": {
     "slide_type": "slide"
    }
   },
   "source": [
    "# How to download your search history from Google\n",
    "- Go to [https://takeout.google.com/settings/takeout/custom/my_activity](https://takeout.google.com/settings/takeout/custom/my_activity)\n",
    "- Click \"multiple formats\" and change from HTML to JSON and click OK\n",
    "<img src=\"json.png\" alt=\"json\" width=\"400\"/>\n",
    "- Click the \"All activity data included\" button, Deselect all, then check only Search (you may need to scroll)"
   ]
  },
  {
   "cell_type": "markdown",
   "id": "7e1e851b",
   "metadata": {
    "slideshow": {
     "slide_type": "subslide"
    }
   },
   "source": [
    "- At the bottom of the page click \"Next Step\"\n",
    "- Click \"Create export\""
   ]
  },
  {
   "cell_type": "markdown",
   "id": "9c90f050",
   "metadata": {
    "slideshow": {
     "slide_type": "slide"
    }
   },
   "source": [
    "# How to download your search history from Google\n",
    "\n",
    "- The Export Progress message will say it could take hours or days to complete, but it will only take a few minutes.\n",
    "- You can view your export in progress: [https://takeout.google.com/takeout/downloads](https://takeout.google.com/takeout/downloads) you'll see it available for download soon. You may need to refresh the page.\n",
    "- Click Download"
   ]
  },
  {
   "cell_type": "markdown",
   "id": "e197ee17",
   "metadata": {
    "slideshow": {
     "slide_type": "slide"
    }
   },
   "source": [
    "# How to follow along in Python\n",
    "- If you already know how to clone a github repository and open an ipynb file, here is the repository link: https://github.com/erickaakcire/explore_google_takeout\n",
    "- If not I will show you how to open it in Google Colab (no need to install python, etc.). **Everyone can follow along!**"
   ]
  },
  {
   "cell_type": "markdown",
   "id": "9fae6872",
   "metadata": {
    "slideshow": {
     "slide_type": "subslide"
    }
   },
   "source": [
    "1. Login to Google and go to https://drive.google.com/ - at AU, make sure to login to Google using your **NON-AU account** or you will not be able to create a colab notebook.\n",
    "2. Create a new Google Colab document by going to New > More > Google Colabratory\n",
    "    - If you have not created a Google Colab document before you won't see Google Colabratory, go to \"Connect more apps\" and choose Google Colabratory first.\n",
    "    - When you have done this you have created a new blank ipynb python file on Googles servers\n",
    "3. Now we need to import the ipynb file into your new Google Colab document. Go to File > Upload Notebook > click the Github tab. Enter this Github URL: https://github.com/erickaakcire/explore_google_takeout\n",
    "    - It will find the one ipynb file, then just click on it to load it."
   ]
  },
  {
   "cell_type": "markdown",
   "id": "4d8278e5",
   "metadata": {
    "slideshow": {
     "slide_type": "slide"
    }
   },
   "source": [
    "# Load your json file into Pandas\n",
    "- On Google Colab, first upload the MyActivity.json file that you find in the Search folder to Google Colab. \n",
    "- Click on the folder icon on the left, which will open up a file view where you can drag your file. "
   ]
  },
  {
   "cell_type": "markdown",
   "id": "2bfbac12",
   "metadata": {
    "slideshow": {
     "slide_type": "skip"
    }
   },
   "source": [
    "- To get the path of this file, click the three dots menu on the right of the file and choose \"copy path\" then just paste what you have inside the quotation marks in the cell below.\n",
    "\n",
    "![google colab image](google_colab_1.png)"
   ]
  },
  {
   "cell_type": "code",
   "execution_count": 3,
   "id": "7983238c",
   "metadata": {
    "slideshow": {
     "slide_type": "fragment"
    }
   },
   "outputs": [
    {
     "data": {
      "text/html": [
       "<div>\n",
       "<style scoped>\n",
       "    .dataframe tbody tr th:only-of-type {\n",
       "        vertical-align: middle;\n",
       "    }\n",
       "\n",
       "    .dataframe tbody tr th {\n",
       "        vertical-align: top;\n",
       "    }\n",
       "\n",
       "    .dataframe thead th {\n",
       "        text-align: right;\n",
       "    }\n",
       "</style>\n",
       "<table border=\"1\" class=\"dataframe\">\n",
       "  <thead>\n",
       "    <tr style=\"text-align: right;\">\n",
       "      <th></th>\n",
       "      <th>header</th>\n",
       "      <th>title</th>\n",
       "      <th>titleUrl</th>\n",
       "      <th>time</th>\n",
       "      <th>products</th>\n",
       "      <th>activityControls</th>\n",
       "      <th>locationInfos</th>\n",
       "    </tr>\n",
       "  </thead>\n",
       "  <tbody>\n",
       "    <tr>\n",
       "      <th>0</th>\n",
       "      <td>Search</td>\n",
       "      <td>Visited Math Games | Math Playground | Fun for...</td>\n",
       "      <td>https://www.google.com/url?q=https://www.mathp...</td>\n",
       "      <td>2022-09-01T20:33:41.108Z</td>\n",
       "      <td>[Search]</td>\n",
       "      <td>[Web &amp; App Activity]</td>\n",
       "      <td>NaN</td>\n",
       "    </tr>\n",
       "    <tr>\n",
       "      <th>1</th>\n",
       "      <td>Search</td>\n",
       "      <td>Searched for math playground</td>\n",
       "      <td>https://www.google.com/search?q=math+playground</td>\n",
       "      <td>2022-09-01T20:33:37.841Z</td>\n",
       "      <td>[Search]</td>\n",
       "      <td>[Web &amp; App Activity]</td>\n",
       "      <td>[{'name': 'At this general area', 'url': 'http...</td>\n",
       "    </tr>\n",
       "    <tr>\n",
       "      <th>2</th>\n",
       "      <td>Search</td>\n",
       "      <td>Searched for math</td>\n",
       "      <td>https://www.google.com/search?q=math</td>\n",
       "      <td>2022-09-01T20:33:00.196Z</td>\n",
       "      <td>[Search]</td>\n",
       "      <td>[Web &amp; App Activity]</td>\n",
       "      <td>[{'name': 'At this general area', 'url': 'http...</td>\n",
       "    </tr>\n",
       "    <tr>\n",
       "      <th>3</th>\n",
       "      <td>Search</td>\n",
       "      <td>Visited Google Search</td>\n",
       "      <td>https://www.google.com</td>\n",
       "      <td>2022-09-01T20:32:46.321Z</td>\n",
       "      <td>[Search]</td>\n",
       "      <td>[Web &amp; App Activity]</td>\n",
       "      <td>NaN</td>\n",
       "    </tr>\n",
       "    <tr>\n",
       "      <th>4</th>\n",
       "      <td>Search</td>\n",
       "      <td>Visited https://chevychasekids.dentist/</td>\n",
       "      <td>https://www.google.com/url?q=https://chevychas...</td>\n",
       "      <td>2022-09-01T20:09:37.925Z</td>\n",
       "      <td>[Search]</td>\n",
       "      <td>[Web &amp; App Activity]</td>\n",
       "      <td>NaN</td>\n",
       "    </tr>\n",
       "  </tbody>\n",
       "</table>\n",
       "</div>"
      ],
      "text/plain": [
       "   header                                              title  \\\n",
       "0  Search  Visited Math Games | Math Playground | Fun for...   \n",
       "1  Search                       Searched for math playground   \n",
       "2  Search                                  Searched for math   \n",
       "3  Search                              Visited Google Search   \n",
       "4  Search            Visited https://chevychasekids.dentist/   \n",
       "\n",
       "                                            titleUrl  \\\n",
       "0  https://www.google.com/url?q=https://www.mathp...   \n",
       "1    https://www.google.com/search?q=math+playground   \n",
       "2               https://www.google.com/search?q=math   \n",
       "3                             https://www.google.com   \n",
       "4  https://www.google.com/url?q=https://chevychas...   \n",
       "\n",
       "                       time  products      activityControls  \\\n",
       "0  2022-09-01T20:33:41.108Z  [Search]  [Web & App Activity]   \n",
       "1  2022-09-01T20:33:37.841Z  [Search]  [Web & App Activity]   \n",
       "2  2022-09-01T20:33:00.196Z  [Search]  [Web & App Activity]   \n",
       "3  2022-09-01T20:32:46.321Z  [Search]  [Web & App Activity]   \n",
       "4  2022-09-01T20:09:37.925Z  [Search]  [Web & App Activity]   \n",
       "\n",
       "                                       locationInfos  \n",
       "0                                                NaN  \n",
       "1  [{'name': 'At this general area', 'url': 'http...  \n",
       "2  [{'name': 'At this general area', 'url': 'http...  \n",
       "3                                                NaN  \n",
       "4                                                NaN  "
      ]
     },
     "execution_count": 3,
     "metadata": {},
     "output_type": "execute_result"
    }
   ],
   "source": [
    "import pandas as pd\n",
    "#df = pd.read_json(\"/content/MyActivity.json\")\n",
    "#df = pd.read_json(\"/content/demo.json\")\n",
    "df = pd.read_json(\"demo.json\")\n",
    "\n",
    "df.head()"
   ]
  },
  {
   "cell_type": "markdown",
   "id": "cb64f469",
   "metadata": {
    "slideshow": {
     "slide_type": "slide"
    }
   },
   "source": [
    "# Goal\n",
    "\n",
    "## Display frequent search terms (unigrams) (overall, by month)\n",
    "\n",
    "1. \"searched for\" and \"visited\" record types must be distinguished\n",
    "2. Extract the month/year as a variable\n",
    "3. Lower case the title field, take out punctuation, split by space to create a clean search words array\n",
    "4. Remove stop words for your language(s)\n",
    "5. Group by month and view the top X words per month"
   ]
  },
  {
   "cell_type": "markdown",
   "id": "ac5a27e2",
   "metadata": {
    "slideshow": {
     "slide_type": "slide"
    }
   },
   "source": [
    "# First, general exploration"
   ]
  },
  {
   "cell_type": "code",
   "execution_count": 4,
   "id": "2fad96ee",
   "metadata": {
    "slideshow": {
     "slide_type": "fragment"
    }
   },
   "outputs": [
    {
     "data": {
      "text/html": [
       "<div>\n",
       "<style scoped>\n",
       "    .dataframe tbody tr th:only-of-type {\n",
       "        vertical-align: middle;\n",
       "    }\n",
       "\n",
       "    .dataframe tbody tr th {\n",
       "        vertical-align: top;\n",
       "    }\n",
       "\n",
       "    .dataframe thead th {\n",
       "        text-align: right;\n",
       "    }\n",
       "</style>\n",
       "<table border=\"1\" class=\"dataframe\">\n",
       "  <thead>\n",
       "    <tr style=\"text-align: right;\">\n",
       "      <th></th>\n",
       "      <th>header</th>\n",
       "      <th>title</th>\n",
       "      <th>titleUrl</th>\n",
       "      <th>time</th>\n",
       "      <th>products</th>\n",
       "      <th>activityControls</th>\n",
       "      <th>locationInfos</th>\n",
       "    </tr>\n",
       "  </thead>\n",
       "  <tbody>\n",
       "    <tr>\n",
       "      <th>23</th>\n",
       "      <td>Search</td>\n",
       "      <td>Visited http://sinosphere.blogs.nytimes.com/20...</td>\n",
       "      <td>https://www.google.com/url?q=http://sinosphere...</td>\n",
       "      <td>2014-04-03T08:20:26.348Z</td>\n",
       "      <td>[Search]</td>\n",
       "      <td>[Web &amp; App Activity]</td>\n",
       "      <td>NaN</td>\n",
       "    </tr>\n",
       "    <tr>\n",
       "      <th>24</th>\n",
       "      <td>Search</td>\n",
       "      <td>Visited http://en.wikipedia.org/wiki/Bo_Xilai</td>\n",
       "      <td>https://www.google.com/url?q=http://en.wikiped...</td>\n",
       "      <td>2014-04-03T08:20:22.179Z</td>\n",
       "      <td>[Search]</td>\n",
       "      <td>[Web &amp; App Activity]</td>\n",
       "      <td>NaN</td>\n",
       "    </tr>\n",
       "    <tr>\n",
       "      <th>25</th>\n",
       "      <td>Search</td>\n",
       "      <td>Visited http://www.bbc.com/news/world-asia-chi...</td>\n",
       "      <td>https://www.google.com/url?q=http://www.bbc.co...</td>\n",
       "      <td>2014-04-03T08:20:20.328Z</td>\n",
       "      <td>[Search]</td>\n",
       "      <td>[Web &amp; App Activity]</td>\n",
       "      <td>NaN</td>\n",
       "    </tr>\n",
       "    <tr>\n",
       "      <th>26</th>\n",
       "      <td>Search</td>\n",
       "      <td>Searched for bo xilai</td>\n",
       "      <td>https://www.google.com/search?q=bo+xilai</td>\n",
       "      <td>2014-04-03T08:20:11.424Z</td>\n",
       "      <td>[Search]</td>\n",
       "      <td>[Web &amp; App Activity]</td>\n",
       "      <td>NaN</td>\n",
       "    </tr>\n",
       "    <tr>\n",
       "      <th>27</th>\n",
       "      <td>Search</td>\n",
       "      <td>Searched for 10 megabytes in bytes</td>\n",
       "      <td>https://www.google.com/search?q=10+megabytes+i...</td>\n",
       "      <td>2014-04-02T14:39:42.060Z</td>\n",
       "      <td>[Search]</td>\n",
       "      <td>[Web &amp; App Activity]</td>\n",
       "      <td>NaN</td>\n",
       "    </tr>\n",
       "  </tbody>\n",
       "</table>\n",
       "</div>"
      ],
      "text/plain": [
       "    header                                              title  \\\n",
       "23  Search  Visited http://sinosphere.blogs.nytimes.com/20...   \n",
       "24  Search      Visited http://en.wikipedia.org/wiki/Bo_Xilai   \n",
       "25  Search  Visited http://www.bbc.com/news/world-asia-chi...   \n",
       "26  Search                              Searched for bo xilai   \n",
       "27  Search                 Searched for 10 megabytes in bytes   \n",
       "\n",
       "                                             titleUrl  \\\n",
       "23  https://www.google.com/url?q=http://sinosphere...   \n",
       "24  https://www.google.com/url?q=http://en.wikiped...   \n",
       "25  https://www.google.com/url?q=http://www.bbc.co...   \n",
       "26           https://www.google.com/search?q=bo+xilai   \n",
       "27  https://www.google.com/search?q=10+megabytes+i...   \n",
       "\n",
       "                        time  products      activityControls locationInfos  \n",
       "23  2014-04-03T08:20:26.348Z  [Search]  [Web & App Activity]           NaN  \n",
       "24  2014-04-03T08:20:22.179Z  [Search]  [Web & App Activity]           NaN  \n",
       "25  2014-04-03T08:20:20.328Z  [Search]  [Web & App Activity]           NaN  \n",
       "26  2014-04-03T08:20:11.424Z  [Search]  [Web & App Activity]           NaN  \n",
       "27  2014-04-02T14:39:42.060Z  [Search]  [Web & App Activity]           NaN  "
      ]
     },
     "execution_count": 4,
     "metadata": {},
     "output_type": "execute_result"
    }
   ],
   "source": [
    "df.tail()"
   ]
  },
  {
   "cell_type": "code",
   "execution_count": 5,
   "id": "28331ac6",
   "metadata": {
    "slideshow": {
     "slide_type": "fragment"
    }
   },
   "outputs": [
    {
     "data": {
      "text/plain": [
       "(28, 7)"
      ]
     },
     "execution_count": 5,
     "metadata": {},
     "output_type": "execute_result"
    }
   ],
   "source": [
    "df.shape"
   ]
  },
  {
   "cell_type": "code",
   "execution_count": 6,
   "id": "87425aef",
   "metadata": {
    "slideshow": {
     "slide_type": "slide"
    }
   },
   "outputs": [
    {
     "name": "stdout",
     "output_type": "stream",
     "text": [
      "<class 'pandas.core.frame.DataFrame'>\n",
      "RangeIndex: 28 entries, 0 to 27\n",
      "Data columns (total 7 columns):\n",
      " #   Column            Non-Null Count  Dtype \n",
      "---  ------            --------------  ----- \n",
      " 0   header            28 non-null     object\n",
      " 1   title             28 non-null     object\n",
      " 2   titleUrl          28 non-null     object\n",
      " 3   time              28 non-null     object\n",
      " 4   products          28 non-null     object\n",
      " 5   activityControls  28 non-null     object\n",
      " 6   locationInfos     10 non-null     object\n",
      "dtypes: object(7)\n",
      "memory usage: 1.7+ KB\n"
     ]
    }
   ],
   "source": [
    "df.info()"
   ]
  },
  {
   "cell_type": "markdown",
   "id": "72bcec8e",
   "metadata": {
    "slideshow": {
     "slide_type": "fragment"
    }
   },
   "source": [
    "# 'time' is not a timestamp!"
   ]
  },
  {
   "cell_type": "code",
   "execution_count": 7,
   "id": "60121982",
   "metadata": {
    "slideshow": {
     "slide_type": "slide"
    }
   },
   "outputs": [
    {
     "name": "stdout",
     "output_type": "stream",
     "text": [
      "<class 'pandas.core.frame.DataFrame'>\n",
      "RangeIndex: 28 entries, 0 to 27\n",
      "Data columns (total 7 columns):\n",
      " #   Column            Non-Null Count  Dtype              \n",
      "---  ------            --------------  -----              \n",
      " 0   header            28 non-null     object             \n",
      " 1   title             28 non-null     object             \n",
      " 2   titleUrl          28 non-null     object             \n",
      " 3   time              28 non-null     datetime64[ns, UTC]\n",
      " 4   products          28 non-null     object             \n",
      " 5   activityControls  28 non-null     object             \n",
      " 6   locationInfos     10 non-null     object             \n",
      "dtypes: datetime64[ns, UTC](1), object(6)\n",
      "memory usage: 1.7+ KB\n"
     ]
    }
   ],
   "source": [
    "df['time'] = pd.to_datetime(df['time'], infer_datetime_format=True)\n",
    "df.info()"
   ]
  },
  {
   "cell_type": "code",
   "execution_count": 8,
   "id": "6dacf9b6",
   "metadata": {
    "slideshow": {
     "slide_type": "slide"
    }
   },
   "outputs": [
    {
     "name": "stderr",
     "output_type": "stream",
     "text": [
      "/var/folders/3g/s_fz7w8j73b8ksc4116pztwc0000gn/T/ipykernel_33463/3627053830.py:1: FutureWarning: Treating datetime data as categorical rather than numeric in `.describe` is deprecated and will be removed in a future version of pandas. Specify `datetime_is_numeric=True` to silence this warning and adopt the future behavior now.\n",
      "  df.describe()\n"
     ]
    },
    {
     "data": {
      "text/html": [
       "<div>\n",
       "<style scoped>\n",
       "    .dataframe tbody tr th:only-of-type {\n",
       "        vertical-align: middle;\n",
       "    }\n",
       "\n",
       "    .dataframe tbody tr th {\n",
       "        vertical-align: top;\n",
       "    }\n",
       "\n",
       "    .dataframe thead th {\n",
       "        text-align: right;\n",
       "    }\n",
       "</style>\n",
       "<table border=\"1\" class=\"dataframe\">\n",
       "  <thead>\n",
       "    <tr style=\"text-align: right;\">\n",
       "      <th></th>\n",
       "      <th>header</th>\n",
       "      <th>title</th>\n",
       "      <th>titleUrl</th>\n",
       "      <th>time</th>\n",
       "      <th>products</th>\n",
       "      <th>activityControls</th>\n",
       "      <th>locationInfos</th>\n",
       "    </tr>\n",
       "  </thead>\n",
       "  <tbody>\n",
       "    <tr>\n",
       "      <th>count</th>\n",
       "      <td>28</td>\n",
       "      <td>28</td>\n",
       "      <td>28</td>\n",
       "      <td>28</td>\n",
       "      <td>28</td>\n",
       "      <td>28</td>\n",
       "      <td>10</td>\n",
       "    </tr>\n",
       "    <tr>\n",
       "      <th>unique</th>\n",
       "      <td>1</td>\n",
       "      <td>28</td>\n",
       "      <td>28</td>\n",
       "      <td>27</td>\n",
       "      <td>1</td>\n",
       "      <td>1</td>\n",
       "      <td>4</td>\n",
       "    </tr>\n",
       "    <tr>\n",
       "      <th>top</th>\n",
       "      <td>Search</td>\n",
       "      <td>Visited Math Games | Math Playground | Fun for...</td>\n",
       "      <td>https://www.google.com/url?q=https://www.mathp...</td>\n",
       "      <td>2022-09-01 20:09:20.999000+00:00</td>\n",
       "      <td>[Search]</td>\n",
       "      <td>[Web &amp; App Activity]</td>\n",
       "      <td>[{'name': 'At this general area', 'url': 'http...</td>\n",
       "    </tr>\n",
       "    <tr>\n",
       "      <th>freq</th>\n",
       "      <td>28</td>\n",
       "      <td>1</td>\n",
       "      <td>1</td>\n",
       "      <td>2</td>\n",
       "      <td>28</td>\n",
       "      <td>28</td>\n",
       "      <td>6</td>\n",
       "    </tr>\n",
       "    <tr>\n",
       "      <th>first</th>\n",
       "      <td>NaN</td>\n",
       "      <td>NaN</td>\n",
       "      <td>NaN</td>\n",
       "      <td>2014-04-02 14:39:42.060000+00:00</td>\n",
       "      <td>NaN</td>\n",
       "      <td>NaN</td>\n",
       "      <td>NaN</td>\n",
       "    </tr>\n",
       "    <tr>\n",
       "      <th>last</th>\n",
       "      <td>NaN</td>\n",
       "      <td>NaN</td>\n",
       "      <td>NaN</td>\n",
       "      <td>2022-09-01 20:33:41.108000+00:00</td>\n",
       "      <td>NaN</td>\n",
       "      <td>NaN</td>\n",
       "      <td>NaN</td>\n",
       "    </tr>\n",
       "  </tbody>\n",
       "</table>\n",
       "</div>"
      ],
      "text/plain": [
       "        header                                              title  \\\n",
       "count       28                                                 28   \n",
       "unique       1                                                 28   \n",
       "top     Search  Visited Math Games | Math Playground | Fun for...   \n",
       "freq        28                                                  1   \n",
       "first      NaN                                                NaN   \n",
       "last       NaN                                                NaN   \n",
       "\n",
       "                                                 titleUrl  \\\n",
       "count                                                  28   \n",
       "unique                                                 28   \n",
       "top     https://www.google.com/url?q=https://www.mathp...   \n",
       "freq                                                    1   \n",
       "first                                                 NaN   \n",
       "last                                                  NaN   \n",
       "\n",
       "                                    time  products      activityControls  \\\n",
       "count                                 28        28                    28   \n",
       "unique                                27         1                     1   \n",
       "top     2022-09-01 20:09:20.999000+00:00  [Search]  [Web & App Activity]   \n",
       "freq                                   2        28                    28   \n",
       "first   2014-04-02 14:39:42.060000+00:00       NaN                   NaN   \n",
       "last    2022-09-01 20:33:41.108000+00:00       NaN                   NaN   \n",
       "\n",
       "                                            locationInfos  \n",
       "count                                                  10  \n",
       "unique                                                  4  \n",
       "top     [{'name': 'At this general area', 'url': 'http...  \n",
       "freq                                                    6  \n",
       "first                                                 NaN  \n",
       "last                                                  NaN  "
      ]
     },
     "execution_count": 8,
     "metadata": {},
     "output_type": "execute_result"
    }
   ],
   "source": [
    "df.describe()"
   ]
  },
  {
   "cell_type": "markdown",
   "id": "c4ec2bf6",
   "metadata": {
    "slideshow": {
     "slide_type": "fragment"
    }
   },
   "source": [
    "# Three columns have only 1 value"
   ]
  },
  {
   "cell_type": "markdown",
   "id": "5dba1d7d",
   "metadata": {
    "slideshow": {
     "slide_type": "slide"
    }
   },
   "source": [
    "# We only need two columns for this example"
   ]
  },
  {
   "cell_type": "code",
   "execution_count": 9,
   "id": "b6309770",
   "metadata": {
    "slideshow": {
     "slide_type": "fragment"
    }
   },
   "outputs": [],
   "source": [
    "df = df[['title','time']]"
   ]
  },
  {
   "cell_type": "code",
   "execution_count": 10,
   "id": "a848cf2f",
   "metadata": {
    "slideshow": {
     "slide_type": "fragment"
    }
   },
   "outputs": [
    {
     "data": {
      "text/html": [
       "<div>\n",
       "<style scoped>\n",
       "    .dataframe tbody tr th:only-of-type {\n",
       "        vertical-align: middle;\n",
       "    }\n",
       "\n",
       "    .dataframe tbody tr th {\n",
       "        vertical-align: top;\n",
       "    }\n",
       "\n",
       "    .dataframe thead th {\n",
       "        text-align: right;\n",
       "    }\n",
       "</style>\n",
       "<table border=\"1\" class=\"dataframe\">\n",
       "  <thead>\n",
       "    <tr style=\"text-align: right;\">\n",
       "      <th></th>\n",
       "      <th>title</th>\n",
       "      <th>time</th>\n",
       "      <th>year</th>\n",
       "      <th>month</th>\n",
       "    </tr>\n",
       "  </thead>\n",
       "  <tbody>\n",
       "    <tr>\n",
       "      <th>0</th>\n",
       "      <td>Visited Math Games | Math Playground | Fun for...</td>\n",
       "      <td>2022-09-01 20:33:41.108000+00:00</td>\n",
       "      <td>2022</td>\n",
       "      <td>9</td>\n",
       "    </tr>\n",
       "    <tr>\n",
       "      <th>1</th>\n",
       "      <td>Searched for math playground</td>\n",
       "      <td>2022-09-01 20:33:37.841000+00:00</td>\n",
       "      <td>2022</td>\n",
       "      <td>9</td>\n",
       "    </tr>\n",
       "    <tr>\n",
       "      <th>2</th>\n",
       "      <td>Searched for math</td>\n",
       "      <td>2022-09-01 20:33:00.196000+00:00</td>\n",
       "      <td>2022</td>\n",
       "      <td>9</td>\n",
       "    </tr>\n",
       "    <tr>\n",
       "      <th>3</th>\n",
       "      <td>Visited Google Search</td>\n",
       "      <td>2022-09-01 20:32:46.321000+00:00</td>\n",
       "      <td>2022</td>\n",
       "      <td>9</td>\n",
       "    </tr>\n",
       "    <tr>\n",
       "      <th>4</th>\n",
       "      <td>Visited https://chevychasekids.dentist/</td>\n",
       "      <td>2022-09-01 20:09:37.925000+00:00</td>\n",
       "      <td>2022</td>\n",
       "      <td>9</td>\n",
       "    </tr>\n",
       "  </tbody>\n",
       "</table>\n",
       "</div>"
      ],
      "text/plain": [
       "                                               title  \\\n",
       "0  Visited Math Games | Math Playground | Fun for...   \n",
       "1                       Searched for math playground   \n",
       "2                                  Searched for math   \n",
       "3                              Visited Google Search   \n",
       "4            Visited https://chevychasekids.dentist/   \n",
       "\n",
       "                              time  year  month  \n",
       "0 2022-09-01 20:33:41.108000+00:00  2022      9  \n",
       "1 2022-09-01 20:33:37.841000+00:00  2022      9  \n",
       "2 2022-09-01 20:33:00.196000+00:00  2022      9  \n",
       "3 2022-09-01 20:32:46.321000+00:00  2022      9  \n",
       "4 2022-09-01 20:09:37.925000+00:00  2022      9  "
      ]
     },
     "execution_count": 10,
     "metadata": {},
     "output_type": "execute_result"
    }
   ],
   "source": [
    "df['year'] = df['time'].dt.year\n",
    "df['month'] = df['time'].dt.month\n",
    "df.head()"
   ]
  },
  {
   "cell_type": "markdown",
   "id": "42a93f98",
   "metadata": {
    "slideshow": {
     "slide_type": "slide"
    }
   },
   "source": [
    "# We just need searches, not visits"
   ]
  },
  {
   "cell_type": "code",
   "execution_count": 11,
   "id": "77e437d3",
   "metadata": {
    "slideshow": {
     "slide_type": "fragment"
    }
   },
   "outputs": [],
   "source": [
    "df['search_terms'] = df['title'].str.extract(r'Searched for (.*)', expand=False)"
   ]
  },
  {
   "cell_type": "code",
   "execution_count": 12,
   "id": "7c23013a",
   "metadata": {
    "slideshow": {
     "slide_type": "fragment"
    }
   },
   "outputs": [
    {
     "data": {
      "text/html": [
       "<div>\n",
       "<style scoped>\n",
       "    .dataframe tbody tr th:only-of-type {\n",
       "        vertical-align: middle;\n",
       "    }\n",
       "\n",
       "    .dataframe tbody tr th {\n",
       "        vertical-align: top;\n",
       "    }\n",
       "\n",
       "    .dataframe thead th {\n",
       "        text-align: right;\n",
       "    }\n",
       "</style>\n",
       "<table border=\"1\" class=\"dataframe\">\n",
       "  <thead>\n",
       "    <tr style=\"text-align: right;\">\n",
       "      <th></th>\n",
       "      <th>title</th>\n",
       "      <th>time</th>\n",
       "      <th>year</th>\n",
       "      <th>month</th>\n",
       "      <th>search_terms</th>\n",
       "    </tr>\n",
       "  </thead>\n",
       "  <tbody>\n",
       "    <tr>\n",
       "      <th>1</th>\n",
       "      <td>Searched for math playground</td>\n",
       "      <td>2022-09-01 20:33:37.841000+00:00</td>\n",
       "      <td>2022</td>\n",
       "      <td>9</td>\n",
       "      <td>math playground</td>\n",
       "    </tr>\n",
       "    <tr>\n",
       "      <th>2</th>\n",
       "      <td>Searched for math</td>\n",
       "      <td>2022-09-01 20:33:00.196000+00:00</td>\n",
       "      <td>2022</td>\n",
       "      <td>9</td>\n",
       "      <td>math</td>\n",
       "    </tr>\n",
       "    <tr>\n",
       "      <th>5</th>\n",
       "      <td>Searched for chevy chase pediatric dentist</td>\n",
       "      <td>2022-09-01 20:09:20.999000+00:00</td>\n",
       "      <td>2022</td>\n",
       "      <td>9</td>\n",
       "      <td>chevy chase pediatric dentist</td>\n",
       "    </tr>\n",
       "    <tr>\n",
       "      <th>8</th>\n",
       "      <td>Searched for markdown beginner tutorial</td>\n",
       "      <td>2022-09-01 18:12:25.606000+00:00</td>\n",
       "      <td>2022</td>\n",
       "      <td>9</td>\n",
       "      <td>markdown beginner tutorial</td>\n",
       "    </tr>\n",
       "    <tr>\n",
       "      <th>10</th>\n",
       "      <td>Searched for count words sql</td>\n",
       "      <td>2021-09-25 19:38:50.255000+00:00</td>\n",
       "      <td>2021</td>\n",
       "      <td>9</td>\n",
       "      <td>count words sql</td>\n",
       "    </tr>\n",
       "  </tbody>\n",
       "</table>\n",
       "</div>"
      ],
      "text/plain": [
       "                                         title  \\\n",
       "1                 Searched for math playground   \n",
       "2                            Searched for math   \n",
       "5   Searched for chevy chase pediatric dentist   \n",
       "8      Searched for markdown beginner tutorial   \n",
       "10                Searched for count words sql   \n",
       "\n",
       "                               time  year  month  \\\n",
       "1  2022-09-01 20:33:37.841000+00:00  2022      9   \n",
       "2  2022-09-01 20:33:00.196000+00:00  2022      9   \n",
       "5  2022-09-01 20:09:20.999000+00:00  2022      9   \n",
       "8  2022-09-01 18:12:25.606000+00:00  2022      9   \n",
       "10 2021-09-25 19:38:50.255000+00:00  2021      9   \n",
       "\n",
       "                     search_terms  \n",
       "1                 math playground  \n",
       "2                            math  \n",
       "5   chevy chase pediatric dentist  \n",
       "8      markdown beginner tutorial  \n",
       "10                count words sql  "
      ]
     },
     "execution_count": 12,
     "metadata": {},
     "output_type": "execute_result"
    }
   ],
   "source": [
    "df = df.loc[(df['search_terms'].notnull())]\n",
    "df.head()"
   ]
  },
  {
   "cell_type": "code",
   "execution_count": 13,
   "id": "f0fcaa08",
   "metadata": {
    "slideshow": {
     "slide_type": "slide"
    }
   },
   "outputs": [
    {
     "name": "stdout",
     "output_type": "stream",
     "text": [
      "Requirement already satisfied: nltk in /Users/emt/opt/anaconda3/envs/teaching/lib/python3.9/site-packages (3.7)\r\n",
      "Requirement already satisfied: click in /Users/emt/opt/anaconda3/envs/teaching/lib/python3.9/site-packages (from nltk) (8.1.3)\r\n",
      "Requirement already satisfied: joblib in /Users/emt/opt/anaconda3/envs/teaching/lib/python3.9/site-packages (from nltk) (1.1.0)\r\n",
      "Requirement already satisfied: tqdm in /Users/emt/opt/anaconda3/envs/teaching/lib/python3.9/site-packages (from nltk) (4.64.0)\r\n",
      "Requirement already satisfied: regex>=2021.8.3 in /Users/emt/opt/anaconda3/envs/teaching/lib/python3.9/site-packages (from nltk) (2022.4.24)\r\n"
     ]
    }
   ],
   "source": [
    "!pip install nltk"
   ]
  },
  {
   "cell_type": "code",
   "execution_count": 14,
   "id": "f56b6611",
   "metadata": {
    "slideshow": {
     "slide_type": "slide"
    }
   },
   "outputs": [
    {
     "name": "stderr",
     "output_type": "stream",
     "text": [
      "[nltk_data] Downloading package stopwords to /Users/emt/nltk_data...\n",
      "[nltk_data]   Unzipping corpora/stopwords.zip.\n",
      "[nltk_data] Downloading package punkt to /Users/emt/nltk_data...\n",
      "[nltk_data]   Unzipping tokenizers/punkt.zip.\n"
     ]
    },
    {
     "data": {
      "text/plain": [
       "True"
      ]
     },
     "execution_count": 14,
     "metadata": {},
     "output_type": "execute_result"
    }
   ],
   "source": [
    "import nltk\n",
    "from nltk import word_tokenize\n",
    "from nltk.corpus import stopwords\n",
    "from nltk.probability import FreqDist\n",
    "nltk.download('stopwords')\n",
    "nltk.download('punkt')"
   ]
  },
  {
   "cell_type": "code",
   "execution_count": 15,
   "id": "5552f03d",
   "metadata": {
    "slideshow": {
     "slide_type": "slide"
    }
   },
   "outputs": [
    {
     "data": {
      "text/html": [
       "<div>\n",
       "<style scoped>\n",
       "    .dataframe tbody tr th:only-of-type {\n",
       "        vertical-align: middle;\n",
       "    }\n",
       "\n",
       "    .dataframe tbody tr th {\n",
       "        vertical-align: top;\n",
       "    }\n",
       "\n",
       "    .dataframe thead th {\n",
       "        text-align: right;\n",
       "    }\n",
       "</style>\n",
       "<table border=\"1\" class=\"dataframe\">\n",
       "  <thead>\n",
       "    <tr style=\"text-align: right;\">\n",
       "      <th></th>\n",
       "      <th>title</th>\n",
       "      <th>time</th>\n",
       "      <th>year</th>\n",
       "      <th>month</th>\n",
       "      <th>search_terms</th>\n",
       "      <th>term_tokenized</th>\n",
       "    </tr>\n",
       "  </thead>\n",
       "  <tbody>\n",
       "    <tr>\n",
       "      <th>18</th>\n",
       "      <td>Searched for show correlation examples interac...</td>\n",
       "      <td>2019-05-26 21:13:30.340000+00:00</td>\n",
       "      <td>2019</td>\n",
       "      <td>5</td>\n",
       "      <td>show correlation examples interactive</td>\n",
       "      <td>[show, correlation, examples, interactive]</td>\n",
       "    </tr>\n",
       "    <tr>\n",
       "      <th>20</th>\n",
       "      <td>Searched for networkx visualization</td>\n",
       "      <td>2017-09-22 02:50:28.341000+00:00</td>\n",
       "      <td>2017</td>\n",
       "      <td>9</td>\n",
       "      <td>networkx visualization</td>\n",
       "      <td>[networkx, visualization]</td>\n",
       "    </tr>\n",
       "    <tr>\n",
       "      <th>22</th>\n",
       "      <td>Searched for networkx sort nodes by degree</td>\n",
       "      <td>2017-09-22 02:44:45.142000+00:00</td>\n",
       "      <td>2017</td>\n",
       "      <td>9</td>\n",
       "      <td>networkx sort nodes by degree</td>\n",
       "      <td>[networkx, sort, nodes, by, degree]</td>\n",
       "    </tr>\n",
       "    <tr>\n",
       "      <th>26</th>\n",
       "      <td>Searched for bo xilai</td>\n",
       "      <td>2014-04-03 08:20:11.424000+00:00</td>\n",
       "      <td>2014</td>\n",
       "      <td>4</td>\n",
       "      <td>bo xilai</td>\n",
       "      <td>[bo, xilai]</td>\n",
       "    </tr>\n",
       "    <tr>\n",
       "      <th>27</th>\n",
       "      <td>Searched for 10 megabytes in bytes</td>\n",
       "      <td>2014-04-02 14:39:42.060000+00:00</td>\n",
       "      <td>2014</td>\n",
       "      <td>4</td>\n",
       "      <td>10 megabytes in bytes</td>\n",
       "      <td>[10, megabytes, in, bytes]</td>\n",
       "    </tr>\n",
       "  </tbody>\n",
       "</table>\n",
       "</div>"
      ],
      "text/plain": [
       "                                                title  \\\n",
       "18  Searched for show correlation examples interac...   \n",
       "20                Searched for networkx visualization   \n",
       "22         Searched for networkx sort nodes by degree   \n",
       "26                              Searched for bo xilai   \n",
       "27                 Searched for 10 megabytes in bytes   \n",
       "\n",
       "                               time  year  month  \\\n",
       "18 2019-05-26 21:13:30.340000+00:00  2019      5   \n",
       "20 2017-09-22 02:50:28.341000+00:00  2017      9   \n",
       "22 2017-09-22 02:44:45.142000+00:00  2017      9   \n",
       "26 2014-04-03 08:20:11.424000+00:00  2014      4   \n",
       "27 2014-04-02 14:39:42.060000+00:00  2014      4   \n",
       "\n",
       "                             search_terms  \\\n",
       "18  show correlation examples interactive   \n",
       "20                 networkx visualization   \n",
       "22          networkx sort nodes by degree   \n",
       "26                               bo xilai   \n",
       "27                  10 megabytes in bytes   \n",
       "\n",
       "                                term_tokenized  \n",
       "18  [show, correlation, examples, interactive]  \n",
       "20                   [networkx, visualization]  \n",
       "22         [networkx, sort, nodes, by, degree]  \n",
       "26                                 [bo, xilai]  \n",
       "27                  [10, megabytes, in, bytes]  "
      ]
     },
     "execution_count": 15,
     "metadata": {},
     "output_type": "execute_result"
    }
   ],
   "source": [
    "def tokenize(txt):\n",
    "    words = word_tokenize(txt)\n",
    "    return words\n",
    "\n",
    "df['term_tokenized'] = df.apply(lambda row: tokenize(row['search_terms'].lower()), axis=1).copy()\n",
    "df.tail()"
   ]
  },
  {
   "cell_type": "code",
   "execution_count": 16,
   "id": "77900172",
   "metadata": {
    "slideshow": {
     "slide_type": "slide"
    }
   },
   "outputs": [
    {
     "name": "stdout",
     "output_type": "stream",
     "text": [
      "['i', 'me', 'my', 'myself', 'we', 'our', 'ours', 'ourselves', 'you', \"you're\", \"you've\", \"you'll\", \"you'd\", 'your', 'yours', 'yourself', 'yourselves', 'he', 'him', 'his', 'himself', 'she', \"she's\", 'her', 'hers', 'herself', 'it', \"it's\", 'its', 'itself', 'they', 'them', 'their', 'theirs', 'themselves', 'what', 'which', 'who', 'whom', 'this', 'that', \"that'll\", 'these', 'those', 'am', 'is', 'are', 'was', 'were', 'be', 'been', 'being', 'have', 'has', 'had', 'having', 'do', 'does', 'did', 'doing', 'a', 'an', 'the', 'and', 'but', 'if', 'or', 'because', 'as', 'until', 'while', 'of', 'at', 'by', 'for', 'with', 'about', 'against', 'between', 'into', 'through', 'during', 'before', 'after', 'above', 'below', 'to', 'from', 'up', 'down', 'in', 'out', 'on', 'off', 'over', 'under', 'again', 'further', 'then', 'once', 'here', 'there', 'when', 'where', 'why', 'how', 'all', 'any', 'both', 'each', 'few', 'more', 'most', 'other', 'some', 'such', 'no', 'nor', 'not', 'only', 'own', 'same', 'so', 'than', 'too', 'very', 's', 't', 'can', 'will', 'just', 'don', \"don't\", 'should', \"should've\", 'now', 'd', 'll', 'm', 'o', 're', 've', 'y', 'ain', 'aren', \"aren't\", 'couldn', \"couldn't\", 'didn', \"didn't\", 'doesn', \"doesn't\", 'hadn', \"hadn't\", 'hasn', \"hasn't\", 'haven', \"haven't\", 'isn', \"isn't\", 'ma', 'mightn', \"mightn't\", 'mustn', \"mustn't\", 'needn', \"needn't\", 'shan', \"shan't\", 'shouldn', \"shouldn't\", 'wasn', \"wasn't\", 'weren', \"weren't\", 'won', \"won't\", 'wouldn', \"wouldn't\"]\n"
     ]
    }
   ],
   "source": [
    "#clean the data by taking out extremely common words in your language(s)\n",
    "\n",
    "#List of stopwords\n",
    "stopwords = stopwords.words(\"english\")\n",
    "print(stopwords)"
   ]
  },
  {
   "cell_type": "code",
   "execution_count": 17,
   "id": "363c75da",
   "metadata": {
    "slideshow": {
     "slide_type": "slide"
    }
   },
   "outputs": [
    {
     "data": {
      "text/html": [
       "<div>\n",
       "<style scoped>\n",
       "    .dataframe tbody tr th:only-of-type {\n",
       "        vertical-align: middle;\n",
       "    }\n",
       "\n",
       "    .dataframe tbody tr th {\n",
       "        vertical-align: top;\n",
       "    }\n",
       "\n",
       "    .dataframe thead th {\n",
       "        text-align: right;\n",
       "    }\n",
       "</style>\n",
       "<table border=\"1\" class=\"dataframe\">\n",
       "  <thead>\n",
       "    <tr style=\"text-align: right;\">\n",
       "      <th></th>\n",
       "      <th>title</th>\n",
       "      <th>time</th>\n",
       "      <th>year</th>\n",
       "      <th>month</th>\n",
       "      <th>search_terms</th>\n",
       "      <th>term_tokenized</th>\n",
       "      <th>term_cleaned</th>\n",
       "    </tr>\n",
       "  </thead>\n",
       "  <tbody>\n",
       "    <tr>\n",
       "      <th>18</th>\n",
       "      <td>Searched for show correlation examples interac...</td>\n",
       "      <td>2019-05-26 21:13:30.340000+00:00</td>\n",
       "      <td>2019</td>\n",
       "      <td>5</td>\n",
       "      <td>show correlation examples interactive</td>\n",
       "      <td>[show, correlation, examples, interactive]</td>\n",
       "      <td>[show, correlation, examples, interactive]</td>\n",
       "    </tr>\n",
       "    <tr>\n",
       "      <th>20</th>\n",
       "      <td>Searched for networkx visualization</td>\n",
       "      <td>2017-09-22 02:50:28.341000+00:00</td>\n",
       "      <td>2017</td>\n",
       "      <td>9</td>\n",
       "      <td>networkx visualization</td>\n",
       "      <td>[networkx, visualization]</td>\n",
       "      <td>[networkx, visualization]</td>\n",
       "    </tr>\n",
       "    <tr>\n",
       "      <th>22</th>\n",
       "      <td>Searched for networkx sort nodes by degree</td>\n",
       "      <td>2017-09-22 02:44:45.142000+00:00</td>\n",
       "      <td>2017</td>\n",
       "      <td>9</td>\n",
       "      <td>networkx sort nodes by degree</td>\n",
       "      <td>[networkx, sort, nodes, by, degree]</td>\n",
       "      <td>[networkx, sort, nodes, degree]</td>\n",
       "    </tr>\n",
       "    <tr>\n",
       "      <th>26</th>\n",
       "      <td>Searched for bo xilai</td>\n",
       "      <td>2014-04-03 08:20:11.424000+00:00</td>\n",
       "      <td>2014</td>\n",
       "      <td>4</td>\n",
       "      <td>bo xilai</td>\n",
       "      <td>[bo, xilai]</td>\n",
       "      <td>[bo, xilai]</td>\n",
       "    </tr>\n",
       "    <tr>\n",
       "      <th>27</th>\n",
       "      <td>Searched for 10 megabytes in bytes</td>\n",
       "      <td>2014-04-02 14:39:42.060000+00:00</td>\n",
       "      <td>2014</td>\n",
       "      <td>4</td>\n",
       "      <td>10 megabytes in bytes</td>\n",
       "      <td>[10, megabytes, in, bytes]</td>\n",
       "      <td>[megabytes, bytes]</td>\n",
       "    </tr>\n",
       "  </tbody>\n",
       "</table>\n",
       "</div>"
      ],
      "text/plain": [
       "                                                title  \\\n",
       "18  Searched for show correlation examples interac...   \n",
       "20                Searched for networkx visualization   \n",
       "22         Searched for networkx sort nodes by degree   \n",
       "26                              Searched for bo xilai   \n",
       "27                 Searched for 10 megabytes in bytes   \n",
       "\n",
       "                               time  year  month  \\\n",
       "18 2019-05-26 21:13:30.340000+00:00  2019      5   \n",
       "20 2017-09-22 02:50:28.341000+00:00  2017      9   \n",
       "22 2017-09-22 02:44:45.142000+00:00  2017      9   \n",
       "26 2014-04-03 08:20:11.424000+00:00  2014      4   \n",
       "27 2014-04-02 14:39:42.060000+00:00  2014      4   \n",
       "\n",
       "                             search_terms  \\\n",
       "18  show correlation examples interactive   \n",
       "20                 networkx visualization   \n",
       "22          networkx sort nodes by degree   \n",
       "26                               bo xilai   \n",
       "27                  10 megabytes in bytes   \n",
       "\n",
       "                                term_tokenized  \\\n",
       "18  [show, correlation, examples, interactive]   \n",
       "20                   [networkx, visualization]   \n",
       "22         [networkx, sort, nodes, by, degree]   \n",
       "26                                 [bo, xilai]   \n",
       "27                  [10, megabytes, in, bytes]   \n",
       "\n",
       "                                  term_cleaned  \n",
       "18  [show, correlation, examples, interactive]  \n",
       "20                   [networkx, visualization]  \n",
       "22             [networkx, sort, nodes, degree]  \n",
       "26                                 [bo, xilai]  \n",
       "27                          [megabytes, bytes]  "
      ]
     },
     "execution_count": 17,
     "metadata": {},
     "output_type": "execute_result"
    }
   ],
   "source": [
    "#take out stop words & punctuation\n",
    "\n",
    "def rm_punct(all_words):\n",
    "    #Empty list to store words:\n",
    "    words_no_punct = []\n",
    "\n",
    "    #Removing punctuation marks :\n",
    "    for w in all_words:\n",
    "        if w not in stopwords:\n",
    "            if w.isalpha():\n",
    "                words_no_punct.append(w.lower())\n",
    "    return words_no_punct\n",
    "\n",
    "df['term_cleaned'] = df.apply(lambda row: rm_punct(row['term_tokenized']), axis=1).copy()\n",
    "df.tail()"
   ]
  },
  {
   "cell_type": "markdown",
   "id": "0a5d3f5e",
   "metadata": {
    "slideshow": {
     "slide_type": "slide"
    }
   },
   "source": [
    "# Select a random month"
   ]
  },
  {
   "cell_type": "code",
   "execution_count": 19,
   "id": "cb30bf77",
   "metadata": {
    "slideshow": {
     "slide_type": "fragment"
    }
   },
   "outputs": [
    {
     "data": {
      "text/html": [
       "<div>\n",
       "<style scoped>\n",
       "    .dataframe tbody tr th:only-of-type {\n",
       "        vertical-align: middle;\n",
       "    }\n",
       "\n",
       "    .dataframe tbody tr th {\n",
       "        vertical-align: top;\n",
       "    }\n",
       "\n",
       "    .dataframe thead th {\n",
       "        text-align: right;\n",
       "    }\n",
       "</style>\n",
       "<table border=\"1\" class=\"dataframe\">\n",
       "  <thead>\n",
       "    <tr style=\"text-align: right;\">\n",
       "      <th></th>\n",
       "      <th>title</th>\n",
       "      <th>time</th>\n",
       "      <th>year</th>\n",
       "      <th>month</th>\n",
       "      <th>search_terms</th>\n",
       "      <th>term_tokenized</th>\n",
       "      <th>term_cleaned</th>\n",
       "    </tr>\n",
       "  </thead>\n",
       "  <tbody>\n",
       "    <tr>\n",
       "      <th>20</th>\n",
       "      <td>Searched for networkx visualization</td>\n",
       "      <td>2017-09-22 02:50:28.341000+00:00</td>\n",
       "      <td>2017</td>\n",
       "      <td>9</td>\n",
       "      <td>networkx visualization</td>\n",
       "      <td>[networkx, visualization]</td>\n",
       "      <td>[networkx, visualization]</td>\n",
       "    </tr>\n",
       "    <tr>\n",
       "      <th>22</th>\n",
       "      <td>Searched for networkx sort nodes by degree</td>\n",
       "      <td>2017-09-22 02:44:45.142000+00:00</td>\n",
       "      <td>2017</td>\n",
       "      <td>9</td>\n",
       "      <td>networkx sort nodes by degree</td>\n",
       "      <td>[networkx, sort, nodes, by, degree]</td>\n",
       "      <td>[networkx, sort, nodes, degree]</td>\n",
       "    </tr>\n",
       "  </tbody>\n",
       "</table>\n",
       "</div>"
      ],
      "text/plain": [
       "                                         title  \\\n",
       "20         Searched for networkx visualization   \n",
       "22  Searched for networkx sort nodes by degree   \n",
       "\n",
       "                               time  year  month  \\\n",
       "20 2017-09-22 02:50:28.341000+00:00  2017      9   \n",
       "22 2017-09-22 02:44:45.142000+00:00  2017      9   \n",
       "\n",
       "                     search_terms                       term_tokenized  \\\n",
       "20         networkx visualization            [networkx, visualization]   \n",
       "22  networkx sort nodes by degree  [networkx, sort, nodes, by, degree]   \n",
       "\n",
       "                       term_cleaned  \n",
       "20        [networkx, visualization]  \n",
       "22  [networkx, sort, nodes, degree]  "
      ]
     },
     "execution_count": 19,
     "metadata": {},
     "output_type": "execute_result"
    }
   ],
   "source": [
    "# get a specific month\n",
    "df_test = df.loc[(df['month'] == 9) & (df['year'] == 2017) & (df['term_cleaned'].notnull())]\n",
    "df_test"
   ]
  },
  {
   "cell_type": "markdown",
   "id": "d30caf44",
   "metadata": {
    "slideshow": {
     "slide_type": "slide"
    }
   },
   "source": [
    "# For this month, glom all of the search terms together"
   ]
  },
  {
   "cell_type": "code",
   "execution_count": 20,
   "id": "5f3cec03",
   "metadata": {
    "slideshow": {
     "slide_type": "fragment"
    }
   },
   "outputs": [],
   "source": [
    "list_of_lists = df_test.term_cleaned.tolist()\n",
    "flat_list = [item for sublist in list_of_lists for item in sublist]\n",
    "as_text = ' '.join(flat_list)"
   ]
  },
  {
   "cell_type": "markdown",
   "id": "c8f33eee",
   "metadata": {
    "slideshow": {
     "slide_type": "fragment"
    }
   },
   "source": [
    "### Now we can see the most comon unigrams of the month"
   ]
  },
  {
   "cell_type": "code",
   "execution_count": 21,
   "id": "ce0f2e4a",
   "metadata": {
    "slideshow": {
     "slide_type": "fragment"
    }
   },
   "outputs": [
    {
     "data": {
      "text/plain": [
       "[('networkx', 2),\n",
       " ('visualization', 1),\n",
       " ('sort', 1),\n",
       " ('nodes', 1),\n",
       " ('degree', 1)]"
      ]
     },
     "execution_count": 21,
     "metadata": {},
     "output_type": "execute_result"
    }
   ],
   "source": [
    "#Frequency distribution :\n",
    "fdist = FreqDist(flat_list)\n",
    "\n",
    "fdist.most_common(10)"
   ]
  },
  {
   "cell_type": "markdown",
   "id": "809e9c3a",
   "metadata": {
    "slideshow": {
     "slide_type": "slide"
    }
   },
   "source": [
    "# No text data presentation is complete without..."
   ]
  },
  {
   "cell_type": "code",
   "execution_count": null,
   "id": "600816d9",
   "metadata": {
    "slideshow": {
     "slide_type": "skip"
    }
   },
   "outputs": [],
   "source": [
    "!pip install wordcloud"
   ]
  },
  {
   "cell_type": "code",
   "execution_count": 22,
   "id": "4c3614cf",
   "metadata": {
    "slideshow": {
     "slide_type": "fragment"
    }
   },
   "outputs": [
    {
     "data": {
      "image/png": "[encoded data removed]",
      "text/plain": [
       "<Figure size 864x864 with 1 Axes>"
      ]
     },
     "metadata": {
      "needs_background": "light"
     },
     "output_type": "display_data"
    }
   ],
   "source": [
    "#Library to form wordcloud :\n",
    "from wordcloud import WordCloud\n",
    "\n",
    "#Library to plot the wordcloud :\n",
    "import matplotlib.pyplot as plt\n",
    "\n",
    "#Generating the wordcloud :\n",
    "wordcloud = WordCloud().generate(as_text)\n",
    "\n",
    "#Plot the wordcloud :\n",
    "plt.figure(figsize = (12, 12)) \n",
    "plt.imshow(wordcloud) \n",
    "\n",
    "#To remove the axis value :\n",
    "plt.axis(\"off\") \n",
    "plt.show()"
   ]
  },
  {
   "cell_type": "markdown",
   "id": "0a04299d",
   "metadata": {
    "slideshow": {
     "slide_type": "slide"
    }
   },
   "source": [
    "# Discuss\n",
    "### What kinds of questions would you like to answer with this type of dataset?\n",
    "### How can we incorporate this type of data into our research in an ethical and practical way?\n",
    "### What kind of profile do you think Google would construct about you?\n",
    "### How can you use this data to understand your own behavior?\n",
    "    https://github.com/ccs-amsterdam/DigitalFootprintsLab"
   ]
  }
 ],
 "metadata": {
  "celltoolbar": "Slideshow",
  "kernelspec": {
   "display_name": "Python 3 (ipykernel)",
   "language": "python",
   "name": "python3"
  },
  "language_info": {
   "codemirror_mode": {
    "name": "ipython",
    "version": 3
   },
   "file_extension": ".py",
   "mimetype": "text/x-python",
   "name": "python",
   "nbconvert_exporter": "python",
   "pygments_lexer": "ipython3",
   "version": "3.9.7"
  }
 },
 "nbformat": 4,
 "nbformat_minor": 5
}

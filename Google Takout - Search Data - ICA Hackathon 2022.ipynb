{
 "cells": [
  {
   "cell_type": "code",
   "execution_count": 1,
   "id": "ee3c78ee",
   "metadata": {
    "slideshow": {
     "slide_type": "skip"
    }
   },
   "outputs": [
    {
     "data": {
      "text/plain": [
       "2"
      ]
     },
     "execution_count": 1,
     "metadata": {},
     "output_type": "execute_result"
    }
   ],
   "source": [
    "#https://rise.readthedocs.io/en/stable/usage.html"
   ]
  },
  {
   "cell_type": "markdown",
   "id": "82325ad3",
   "metadata": {
    "slideshow": {
     "slide_type": "slide"
    }
   },
   "source": [
    "# Breakout Session Goals\n",
    "In this Breakout session we will analyze our own Google Search History Takeouts to gain insights on 1) what we could potentially learn from this data source and 2) what the practical challenges of gathering data would be."
   ]
  },
  {
   "cell_type": "markdown",
   "id": "0827205c",
   "metadata": {
    "slideshow": {
     "slide_type": "slide"
    }
   },
   "source": [
    "# Personal data downloads / takeouts\n",
    "- Came about due to [GDPR](https://gdpr.eu/what-is-gdpr/)\n",
    "- Allows researchers to partner with individuals - data donation approach\n",
    "- Still subject to the data formatting of platforms which could change any time\n",
    "- Can be confusing for participants to accomplish\n",
    "- Can be hard hard for participants to see what data they are donating (and thus provide *informed* consent)"
   ]
  },
  {
   "cell_type": "markdown",
   "id": "b375ca24",
   "metadata": {
    "slideshow": {
     "slide_type": "slide"
    }
   },
   "source": [
    "# Personal data downloads / takeouts\n",
    "- HUGE advantage over other approaches, device agnostic - anywhere one is logged into the platform the data are collected\n",
    "- Historical approach avoids '[hawthorn](https://en.wikipedia.org/wiki/Hawthorne_effect) / observation' effects issues\n",
    "- Single platform - depends how concentrated individuals are to a single platform -- Google Search is widely used and [the search engine market overall is highly concentrated](https://gs.statcounter.com/search-engine-market-share)"
   ]
  },
  {
   "cell_type": "markdown",
   "id": "fbb206bb",
   "metadata": {
    "slideshow": {
     "slide_type": "slide"
    }
   },
   "source": [
    "# Introductions\n",
    "- Depending on what introductions we have already done in the main session: \n",
    "    - Name\n",
    "    - Title\n",
    "    - University\n",
    "    - Your interest in takeouts/search traces\n",
    "    - Any prior experience with related approaches or data?"
   ]
  },
  {
   "cell_type": "markdown",
   "id": "6d339fe7",
   "metadata": {
    "slideshow": {
     "slide_type": "slide"
    }
   },
   "source": [
    "# How to download your search history from Google\n",
    "- Go to [takeout.google.com](https://takeout.google.com)\n",
    "- Click \"Deselect all\" button (so you are not downloading everything which would take a long time!)\n",
    "- Check \"My Activity\"\n",
    "- Click \"multiple formats\" and change from HTML to JSON and click OK\n",
    "- At the bottom of the page click \"Next Step\"\n",
    "- Click \"Create export\""
   ]
  },
  {
   "cell_type": "markdown",
   "id": "9c90f050",
   "metadata": {
    "slideshow": {
     "slide_type": "slide"
    }
   },
   "source": [
    "# How to download your search history from Google\n",
    "\n",
    "- The Export Progress message will say it could take hours or days to complete, but it will only take a few minutes.\n",
    "- You can view your export in progress: [https://takeout.google.com/takeout/downloads](https://takeout.google.com/takeout/downloads) you'll see it available for download soon. You may need to refresh the page.\n",
    "- Click Download"
   ]
  },
  {
   "cell_type": "markdown",
   "id": "e197ee17",
   "metadata": {
    "slideshow": {
     "slide_type": "slide"
    }
   },
   "source": [
    "# How to follow along in Python\n",
    "- If you already know how to clone a github repository and open an ipynb file, here is the repository link: https://github.com/erickaakcire/explore_google_takeout\n",
    "- If not I will show you how to open it in Google Colab (no need to install python, etc.). **Everyone can follow along!**"
   ]
  },
  {
   "cell_type": "markdown",
   "id": "9fae6872",
   "metadata": {
    "slideshow": {
     "slide_type": "subslide"
    }
   },
   "source": [
    "1. Login to Google and go to https://drive.google.com/ \n",
    "2. Create a new Google Colab document by going to New > More > Google Colabratory\n",
    "    - If you do not see a \"Google Colabratory\" option, go to \"Connect more apps\" and choose Google Colabratory\n",
    "    - When you have done this you have created a new blank ipynb python file on Googles servers\n",
    "3. Now we need to import the ipynb file into your new Google Colab document. Go to File > Upload Notebook > click the Github tab. Enter this Github URL: https://github.com/erickaakcire/explore_google_takeout"
   ]
  },
  {
   "cell_type": "markdown",
   "id": "4d8278e5",
   "metadata": {
    "slideshow": {
     "slide_type": "slide"
    }
   },
   "source": [
    "# Load your json file into Pandas\n",
    "- If you are working locally, just change the path to your own\n",
    "- If you are working on Google Colab, first upload the MyActivity.json file that you find in the Search folder to Google Colab. Click on the folder icon on the left, which will open up a file view where you can drag your file. To get the path of this file, click the three dots menu on the right of the file and choose \"copy path\" then just paste what you have inside the quotation marks in the cell below."
   ]
  },
  {
   "cell_type": "code",
   "execution_count": 2,
   "id": "7983238c",
   "metadata": {
    "slideshow": {
     "slide_type": "fragment"
    }
   },
   "outputs": [
    {
     "data": {
      "text/html": [
       "<div>\n",
       "<style scoped>\n",
       "    .dataframe tbody tr th:only-of-type {\n",
       "        vertical-align: middle;\n",
       "    }\n",
       "\n",
       "    .dataframe tbody tr th {\n",
       "        vertical-align: top;\n",
       "    }\n",
       "\n",
       "    .dataframe thead th {\n",
       "        text-align: right;\n",
       "    }\n",
       "</style>\n",
       "<table border=\"1\" class=\"dataframe\">\n",
       "  <thead>\n",
       "    <tr style=\"text-align: right;\">\n",
       "      <th></th>\n",
       "      <th>header</th>\n",
       "      <th>title</th>\n",
       "      <th>titleUrl</th>\n",
       "      <th>time</th>\n",
       "      <th>products</th>\n",
       "      <th>activityControls</th>\n",
       "      <th>locationInfos</th>\n",
       "      <th>details</th>\n",
       "      <th>subtitles</th>\n",
       "    </tr>\n",
       "  </thead>\n",
       "  <tbody>\n",
       "    <tr>\n",
       "      <th>0</th>\n",
       "      <td>Search</td>\n",
       "      <td>Visited How to Add R to Jupyter Notebook ? - G...</td>\n",
       "      <td>https://www.google.com/url?q=https://www.geeks...</td>\n",
       "      <td>2022-05-18T23:13:57.036Z</td>\n",
       "      <td>[Search]</td>\n",
       "      <td>[Web &amp; App Activity]</td>\n",
       "      <td>NaN</td>\n",
       "      <td>NaN</td>\n",
       "      <td>NaN</td>\n",
       "    </tr>\n",
       "    <tr>\n",
       "      <th>1</th>\n",
       "      <td>Search</td>\n",
       "      <td>Visited dyld : Library not loaded: Reason: ima...</td>\n",
       "      <td>https://www.google.com/url?q=https://www.biost...</td>\n",
       "      <td>2022-05-18T23:09:28.840Z</td>\n",
       "      <td>[Search]</td>\n",
       "      <td>[Web &amp; App Activity]</td>\n",
       "      <td>NaN</td>\n",
       "      <td>NaN</td>\n",
       "      <td>NaN</td>\n",
       "    </tr>\n",
       "    <tr>\n",
       "      <th>2</th>\n",
       "      <td>Search</td>\n",
       "      <td>Searched for dyld: Library not loaded: @rpath/...</td>\n",
       "      <td>https://www.google.com/search?q=dyld:+Library+...</td>\n",
       "      <td>2022-05-18T23:09:14.320Z</td>\n",
       "      <td>[Search]</td>\n",
       "      <td>[Web &amp; App Activity]</td>\n",
       "      <td>[{'name': 'At this general area', 'url': 'http...</td>\n",
       "      <td>NaN</td>\n",
       "      <td>NaN</td>\n",
       "    </tr>\n",
       "    <tr>\n",
       "      <th>3</th>\n",
       "      <td>Search</td>\n",
       "      <td>Visited Jupyter Notebook : HTTP 404: Not Found...</td>\n",
       "      <td>https://www.google.com/url?q=https://github.co...</td>\n",
       "      <td>2022-05-18T23:03:00.510Z</td>\n",
       "      <td>[Search]</td>\n",
       "      <td>[Web &amp; App Activity]</td>\n",
       "      <td>NaN</td>\n",
       "      <td>NaN</td>\n",
       "      <td>NaN</td>\n",
       "    </tr>\n",
       "    <tr>\n",
       "      <th>4</th>\n",
       "      <td>Search</td>\n",
       "      <td>Searched for jupyter notebook r kernel not sta...</td>\n",
       "      <td>https://www.google.com/search?q=jupyter+notebo...</td>\n",
       "      <td>2022-05-18T23:02:56.912Z</td>\n",
       "      <td>[Search]</td>\n",
       "      <td>[Web &amp; App Activity]</td>\n",
       "      <td>[{'name': 'At this general area', 'url': 'http...</td>\n",
       "      <td>NaN</td>\n",
       "      <td>NaN</td>\n",
       "    </tr>\n",
       "  </tbody>\n",
       "</table>\n",
       "</div>"
      ],
      "text/plain": [
       "   header                                              title  \\\n",
       "0  Search  Visited How to Add R to Jupyter Notebook ? - G...   \n",
       "1  Search  Visited dyld : Library not loaded: Reason: ima...   \n",
       "2  Search  Searched for dyld: Library not loaded: @rpath/...   \n",
       "3  Search  Visited Jupyter Notebook : HTTP 404: Not Found...   \n",
       "4  Search  Searched for jupyter notebook r kernel not sta...   \n",
       "\n",
       "                                            titleUrl  \\\n",
       "0  https://www.google.com/url?q=https://www.geeks...   \n",
       "1  https://www.google.com/url?q=https://www.biost...   \n",
       "2  https://www.google.com/search?q=dyld:+Library+...   \n",
       "3  https://www.google.com/url?q=https://github.co...   \n",
       "4  https://www.google.com/search?q=jupyter+notebo...   \n",
       "\n",
       "                       time  products      activityControls  \\\n",
       "0  2022-05-18T23:13:57.036Z  [Search]  [Web & App Activity]   \n",
       "1  2022-05-18T23:09:28.840Z  [Search]  [Web & App Activity]   \n",
       "2  2022-05-18T23:09:14.320Z  [Search]  [Web & App Activity]   \n",
       "3  2022-05-18T23:03:00.510Z  [Search]  [Web & App Activity]   \n",
       "4  2022-05-18T23:02:56.912Z  [Search]  [Web & App Activity]   \n",
       "\n",
       "                                       locationInfos details subtitles  \n",
       "0                                                NaN     NaN       NaN  \n",
       "1                                                NaN     NaN       NaN  \n",
       "2  [{'name': 'At this general area', 'url': 'http...     NaN       NaN  \n",
       "3                                                NaN     NaN       NaN  \n",
       "4  [{'name': 'At this general area', 'url': 'http...     NaN       NaN  "
      ]
     },
     "execution_count": 2,
     "metadata": {},
     "output_type": "execute_result"
    }
   ],
   "source": [
    "import pandas as pd\n",
    "df = pd.read_json(\"/Users/emt/Downloads/Takeout 6/My Activity/Search/MyActivity.json\")\n",
    "df.head()"
   ]
  },
  {
   "cell_type": "markdown",
   "id": "cb64f469",
   "metadata": {
    "slideshow": {
     "slide_type": "slide"
    }
   },
   "source": [
    "# Goal\n",
    "\n",
    "## Display frequent search terms (unigrams) (overall, by month)\n",
    "\n",
    "1. \"searched for\" and \"visited\" record types must be distinguished\n",
    "2. Extract the month/year as a variable\n",
    "3. Lower case the title field, take out punctuation, split by space to create a clean search words array\n",
    "4. Remove stop words for your language(s)\n",
    "5. Group by month and view the top X words per month"
   ]
  },
  {
   "cell_type": "markdown",
   "id": "ac5a27e2",
   "metadata": {
    "slideshow": {
     "slide_type": "slide"
    }
   },
   "source": [
    "# First, general exploration"
   ]
  },
  {
   "cell_type": "code",
   "execution_count": 6,
   "id": "2fad96ee",
   "metadata": {
    "slideshow": {
     "slide_type": "fragment"
    }
   },
   "outputs": [
    {
     "data": {
      "text/html": [
       "<div>\n",
       "<style scoped>\n",
       "    .dataframe tbody tr th:only-of-type {\n",
       "        vertical-align: middle;\n",
       "    }\n",
       "\n",
       "    .dataframe tbody tr th {\n",
       "        vertical-align: top;\n",
       "    }\n",
       "\n",
       "    .dataframe thead th {\n",
       "        text-align: right;\n",
       "    }\n",
       "</style>\n",
       "<table border=\"1\" class=\"dataframe\">\n",
       "  <thead>\n",
       "    <tr style=\"text-align: right;\">\n",
       "      <th></th>\n",
       "      <th>header</th>\n",
       "      <th>title</th>\n",
       "      <th>titleUrl</th>\n",
       "      <th>time</th>\n",
       "      <th>products</th>\n",
       "      <th>activityControls</th>\n",
       "      <th>locationInfos</th>\n",
       "      <th>details</th>\n",
       "      <th>subtitles</th>\n",
       "    </tr>\n",
       "  </thead>\n",
       "  <tbody>\n",
       "    <tr>\n",
       "      <th>50219</th>\n",
       "      <td>Search</td>\n",
       "      <td>Visited http://sinosphere.blogs.nytimes.com/20...</td>\n",
       "      <td>https://www.google.com/url?q=http://sinosphere...</td>\n",
       "      <td>2014-04-03T08:20:26.348Z</td>\n",
       "      <td>[Search]</td>\n",
       "      <td>[Web &amp; App Activity]</td>\n",
       "      <td>NaN</td>\n",
       "      <td>NaN</td>\n",
       "      <td>NaN</td>\n",
       "    </tr>\n",
       "    <tr>\n",
       "      <th>50220</th>\n",
       "      <td>Search</td>\n",
       "      <td>Visited http://en.wikipedia.org/wiki/Bo_Xilai</td>\n",
       "      <td>https://www.google.com/url?q=http://en.wikiped...</td>\n",
       "      <td>2014-04-03T08:20:22.179Z</td>\n",
       "      <td>[Search]</td>\n",
       "      <td>[Web &amp; App Activity]</td>\n",
       "      <td>NaN</td>\n",
       "      <td>NaN</td>\n",
       "      <td>NaN</td>\n",
       "    </tr>\n",
       "    <tr>\n",
       "      <th>50221</th>\n",
       "      <td>Search</td>\n",
       "      <td>Visited http://www.bbc.com/news/world-asia-chi...</td>\n",
       "      <td>https://www.google.com/url?q=http://www.bbc.co...</td>\n",
       "      <td>2014-04-03T08:20:20.328Z</td>\n",
       "      <td>[Search]</td>\n",
       "      <td>[Web &amp; App Activity]</td>\n",
       "      <td>NaN</td>\n",
       "      <td>NaN</td>\n",
       "      <td>NaN</td>\n",
       "    </tr>\n",
       "    <tr>\n",
       "      <th>50222</th>\n",
       "      <td>Search</td>\n",
       "      <td>Searched for bo xilai</td>\n",
       "      <td>https://www.google.com/search?q=bo+xilai</td>\n",
       "      <td>2014-04-03T08:20:11.424Z</td>\n",
       "      <td>[Search]</td>\n",
       "      <td>[Web &amp; App Activity]</td>\n",
       "      <td>NaN</td>\n",
       "      <td>NaN</td>\n",
       "      <td>NaN</td>\n",
       "    </tr>\n",
       "    <tr>\n",
       "      <th>50223</th>\n",
       "      <td>Search</td>\n",
       "      <td>Searched for 10 megabytes in bytes</td>\n",
       "      <td>https://www.google.com/search?q=10+megabytes+i...</td>\n",
       "      <td>2014-04-02T14:39:42.060Z</td>\n",
       "      <td>[Search]</td>\n",
       "      <td>[Web &amp; App Activity]</td>\n",
       "      <td>NaN</td>\n",
       "      <td>NaN</td>\n",
       "      <td>NaN</td>\n",
       "    </tr>\n",
       "  </tbody>\n",
       "</table>\n",
       "</div>"
      ],
      "text/plain": [
       "       header                                              title  \\\n",
       "50219  Search  Visited http://sinosphere.blogs.nytimes.com/20...   \n",
       "50220  Search      Visited http://en.wikipedia.org/wiki/Bo_Xilai   \n",
       "50221  Search  Visited http://www.bbc.com/news/world-asia-chi...   \n",
       "50222  Search                              Searched for bo xilai   \n",
       "50223  Search                 Searched for 10 megabytes in bytes   \n",
       "\n",
       "                                                titleUrl  \\\n",
       "50219  https://www.google.com/url?q=http://sinosphere...   \n",
       "50220  https://www.google.com/url?q=http://en.wikiped...   \n",
       "50221  https://www.google.com/url?q=http://www.bbc.co...   \n",
       "50222           https://www.google.com/search?q=bo+xilai   \n",
       "50223  https://www.google.com/search?q=10+megabytes+i...   \n",
       "\n",
       "                           time  products      activityControls locationInfos  \\\n",
       "50219  2014-04-03T08:20:26.348Z  [Search]  [Web & App Activity]           NaN   \n",
       "50220  2014-04-03T08:20:22.179Z  [Search]  [Web & App Activity]           NaN   \n",
       "50221  2014-04-03T08:20:20.328Z  [Search]  [Web & App Activity]           NaN   \n",
       "50222  2014-04-03T08:20:11.424Z  [Search]  [Web & App Activity]           NaN   \n",
       "50223  2014-04-02T14:39:42.060Z  [Search]  [Web & App Activity]           NaN   \n",
       "\n",
       "      details subtitles  \n",
       "50219     NaN       NaN  \n",
       "50220     NaN       NaN  \n",
       "50221     NaN       NaN  \n",
       "50222     NaN       NaN  \n",
       "50223     NaN       NaN  "
      ]
     },
     "execution_count": 6,
     "metadata": {},
     "output_type": "execute_result"
    }
   ],
   "source": [
    "df.tail()"
   ]
  },
  {
   "cell_type": "code",
   "execution_count": 2,
   "id": "28331ac6",
   "metadata": {
    "slideshow": {
     "slide_type": "fragment"
    }
   },
   "outputs": [
    {
     "data": {
      "text/plain": [
       "(50224, 9)"
      ]
     },
     "execution_count": 2,
     "metadata": {},
     "output_type": "execute_result"
    }
   ],
   "source": [
    "df.shape"
   ]
  },
  {
   "cell_type": "code",
   "execution_count": 5,
   "id": "87425aef",
   "metadata": {
    "slideshow": {
     "slide_type": "slide"
    }
   },
   "outputs": [
    {
     "name": "stdout",
     "output_type": "stream",
     "text": [
      "<class 'pandas.core.frame.DataFrame'>\n",
      "RangeIndex: 50224 entries, 0 to 50223\n",
      "Data columns (total 9 columns):\n",
      " #   Column            Non-Null Count  Dtype \n",
      "---  ------            --------------  ----- \n",
      " 0   header            50224 non-null  object\n",
      " 1   title             50224 non-null  object\n",
      " 2   titleUrl          50019 non-null  object\n",
      " 3   time              50224 non-null  object\n",
      " 4   products          50224 non-null  object\n",
      " 5   activityControls  50224 non-null  object\n",
      " 6   locationInfos     19892 non-null  object\n",
      " 7   details           71 non-null     object\n",
      " 8   subtitles         11 non-null     object\n",
      "dtypes: object(9)\n",
      "memory usage: 3.4+ MB\n"
     ]
    }
   ],
   "source": [
    "df.info()"
   ]
  },
  {
   "cell_type": "markdown",
   "id": "72bcec8e",
   "metadata": {
    "slideshow": {
     "slide_type": "fragment"
    }
   },
   "source": [
    "# 'time' is not a timestamp!"
   ]
  },
  {
   "cell_type": "code",
   "execution_count": 6,
   "id": "60121982",
   "metadata": {
    "slideshow": {
     "slide_type": "slide"
    }
   },
   "outputs": [
    {
     "name": "stdout",
     "output_type": "stream",
     "text": [
      "<class 'pandas.core.frame.DataFrame'>\n",
      "RangeIndex: 50224 entries, 0 to 50223\n",
      "Data columns (total 9 columns):\n",
      " #   Column            Non-Null Count  Dtype              \n",
      "---  ------            --------------  -----              \n",
      " 0   header            50224 non-null  object             \n",
      " 1   title             50224 non-null  object             \n",
      " 2   titleUrl          50019 non-null  object             \n",
      " 3   time              50224 non-null  datetime64[ns, UTC]\n",
      " 4   products          50224 non-null  object             \n",
      " 5   activityControls  50224 non-null  object             \n",
      " 6   locationInfos     19892 non-null  object             \n",
      " 7   details           71 non-null     object             \n",
      " 8   subtitles         11 non-null     object             \n",
      "dtypes: datetime64[ns, UTC](1), object(8)\n",
      "memory usage: 3.4+ MB\n"
     ]
    }
   ],
   "source": [
    "df['time'] = pd.to_datetime(df['time'], infer_datetime_format=True)\n",
    "df.info()"
   ]
  },
  {
   "cell_type": "code",
   "execution_count": 3,
   "id": "6dacf9b6",
   "metadata": {
    "slideshow": {
     "slide_type": "slide"
    }
   },
   "outputs": [
    {
     "data": {
      "text/html": [
       "<div>\n",
       "<style scoped>\n",
       "    .dataframe tbody tr th:only-of-type {\n",
       "        vertical-align: middle;\n",
       "    }\n",
       "\n",
       "    .dataframe tbody tr th {\n",
       "        vertical-align: top;\n",
       "    }\n",
       "\n",
       "    .dataframe thead th {\n",
       "        text-align: right;\n",
       "    }\n",
       "</style>\n",
       "<table border=\"1\" class=\"dataframe\">\n",
       "  <thead>\n",
       "    <tr style=\"text-align: right;\">\n",
       "      <th></th>\n",
       "      <th>header</th>\n",
       "      <th>title</th>\n",
       "      <th>titleUrl</th>\n",
       "      <th>time</th>\n",
       "      <th>products</th>\n",
       "      <th>activityControls</th>\n",
       "      <th>locationInfos</th>\n",
       "      <th>details</th>\n",
       "      <th>subtitles</th>\n",
       "    </tr>\n",
       "  </thead>\n",
       "  <tbody>\n",
       "    <tr>\n",
       "      <th>count</th>\n",
       "      <td>50224</td>\n",
       "      <td>50224</td>\n",
       "      <td>50019</td>\n",
       "      <td>50224</td>\n",
       "      <td>50224</td>\n",
       "      <td>50224</td>\n",
       "      <td>19892</td>\n",
       "      <td>71</td>\n",
       "      <td>11</td>\n",
       "    </tr>\n",
       "    <tr>\n",
       "      <th>unique</th>\n",
       "      <td>1</td>\n",
       "      <td>42066</td>\n",
       "      <td>42118</td>\n",
       "      <td>49818</td>\n",
       "      <td>1</td>\n",
       "      <td>1</td>\n",
       "      <td>1363</td>\n",
       "      <td>39</td>\n",
       "      <td>11</td>\n",
       "    </tr>\n",
       "    <tr>\n",
       "      <th>top</th>\n",
       "      <td>Search</td>\n",
       "      <td>Visited Google Search</td>\n",
       "      <td>https://www.google.com</td>\n",
       "      <td>2021-03-24T01:58:44.184Z</td>\n",
       "      <td>[Search]</td>\n",
       "      <td>[Web &amp; App Activity]</td>\n",
       "      <td>[{'name': 'At this general area', 'url': 'http...</td>\n",
       "      <td>[{'name': 'Referred from timeanddate.com'}]</td>\n",
       "      <td>[{'name': 'Including topics:'}, {'name': 'Dona...</td>\n",
       "    </tr>\n",
       "    <tr>\n",
       "      <th>freq</th>\n",
       "      <td>50224</td>\n",
       "      <td>334</td>\n",
       "      <td>334</td>\n",
       "      <td>3</td>\n",
       "      <td>50224</td>\n",
       "      <td>50224</td>\n",
       "      <td>5798</td>\n",
       "      <td>6</td>\n",
       "      <td>1</td>\n",
       "    </tr>\n",
       "  </tbody>\n",
       "</table>\n",
       "</div>"
      ],
      "text/plain": [
       "        header                  title                titleUrl  \\\n",
       "count    50224                  50224                   50019   \n",
       "unique       1                  42066                   42118   \n",
       "top     Search  Visited Google Search  https://www.google.com   \n",
       "freq     50224                    334                     334   \n",
       "\n",
       "                            time  products      activityControls  \\\n",
       "count                      50224     50224                 50224   \n",
       "unique                     49818         1                     1   \n",
       "top     2021-03-24T01:58:44.184Z  [Search]  [Web & App Activity]   \n",
       "freq                           3     50224                 50224   \n",
       "\n",
       "                                            locationInfos  \\\n",
       "count                                               19892   \n",
       "unique                                               1363   \n",
       "top     [{'name': 'At this general area', 'url': 'http...   \n",
       "freq                                                 5798   \n",
       "\n",
       "                                            details  \\\n",
       "count                                            71   \n",
       "unique                                           39   \n",
       "top     [{'name': 'Referred from timeanddate.com'}]   \n",
       "freq                                              6   \n",
       "\n",
       "                                                subtitles  \n",
       "count                                                  11  \n",
       "unique                                                 11  \n",
       "top     [{'name': 'Including topics:'}, {'name': 'Dona...  \n",
       "freq                                                    1  "
      ]
     },
     "execution_count": 3,
     "metadata": {},
     "output_type": "execute_result"
    }
   ],
   "source": [
    "df.describe()"
   ]
  },
  {
   "cell_type": "markdown",
   "id": "c4ec2bf6",
   "metadata": {
    "slideshow": {
     "slide_type": "fragment"
    }
   },
   "source": [
    "# Three columns have only 1 value"
   ]
  },
  {
   "cell_type": "code",
   "execution_count": 7,
   "id": "b6309770",
   "metadata": {
    "slideshow": {
     "slide_type": "slide"
    }
   },
   "outputs": [],
   "source": [
    "df = df[['title','time']]"
   ]
  },
  {
   "cell_type": "code",
   "execution_count": 8,
   "id": "a848cf2f",
   "metadata": {
    "slideshow": {
     "slide_type": "fragment"
    }
   },
   "outputs": [
    {
     "data": {
      "text/html": [
       "<div>\n",
       "<style scoped>\n",
       "    .dataframe tbody tr th:only-of-type {\n",
       "        vertical-align: middle;\n",
       "    }\n",
       "\n",
       "    .dataframe tbody tr th {\n",
       "        vertical-align: top;\n",
       "    }\n",
       "\n",
       "    .dataframe thead th {\n",
       "        text-align: right;\n",
       "    }\n",
       "</style>\n",
       "<table border=\"1\" class=\"dataframe\">\n",
       "  <thead>\n",
       "    <tr style=\"text-align: right;\">\n",
       "      <th></th>\n",
       "      <th>title</th>\n",
       "      <th>time</th>\n",
       "      <th>year</th>\n",
       "      <th>month</th>\n",
       "    </tr>\n",
       "  </thead>\n",
       "  <tbody>\n",
       "    <tr>\n",
       "      <th>0</th>\n",
       "      <td>Visited How to Add R to Jupyter Notebook ? - G...</td>\n",
       "      <td>2022-05-18 23:13:57.036000+00:00</td>\n",
       "      <td>2022</td>\n",
       "      <td>5</td>\n",
       "    </tr>\n",
       "    <tr>\n",
       "      <th>1</th>\n",
       "      <td>Visited dyld : Library not loaded: Reason: ima...</td>\n",
       "      <td>2022-05-18 23:09:28.840000+00:00</td>\n",
       "      <td>2022</td>\n",
       "      <td>5</td>\n",
       "    </tr>\n",
       "    <tr>\n",
       "      <th>2</th>\n",
       "      <td>Searched for dyld: Library not loaded: @rpath/...</td>\n",
       "      <td>2022-05-18 23:09:14.320000+00:00</td>\n",
       "      <td>2022</td>\n",
       "      <td>5</td>\n",
       "    </tr>\n",
       "    <tr>\n",
       "      <th>3</th>\n",
       "      <td>Visited Jupyter Notebook : HTTP 404: Not Found...</td>\n",
       "      <td>2022-05-18 23:03:00.510000+00:00</td>\n",
       "      <td>2022</td>\n",
       "      <td>5</td>\n",
       "    </tr>\n",
       "    <tr>\n",
       "      <th>4</th>\n",
       "      <td>Searched for jupyter notebook r kernel not sta...</td>\n",
       "      <td>2022-05-18 23:02:56.912000+00:00</td>\n",
       "      <td>2022</td>\n",
       "      <td>5</td>\n",
       "    </tr>\n",
       "  </tbody>\n",
       "</table>\n",
       "</div>"
      ],
      "text/plain": [
       "                                               title  \\\n",
       "0  Visited How to Add R to Jupyter Notebook ? - G...   \n",
       "1  Visited dyld : Library not loaded: Reason: ima...   \n",
       "2  Searched for dyld: Library not loaded: @rpath/...   \n",
       "3  Visited Jupyter Notebook : HTTP 404: Not Found...   \n",
       "4  Searched for jupyter notebook r kernel not sta...   \n",
       "\n",
       "                              time  year  month  \n",
       "0 2022-05-18 23:13:57.036000+00:00  2022      5  \n",
       "1 2022-05-18 23:09:28.840000+00:00  2022      5  \n",
       "2 2022-05-18 23:09:14.320000+00:00  2022      5  \n",
       "3 2022-05-18 23:03:00.510000+00:00  2022      5  \n",
       "4 2022-05-18 23:02:56.912000+00:00  2022      5  "
      ]
     },
     "execution_count": 8,
     "metadata": {},
     "output_type": "execute_result"
    }
   ],
   "source": [
    "df['year'] = df['time'].dt.year\n",
    "df['month'] = df['time'].dt.month\n",
    "df.head()"
   ]
  },
  {
   "cell_type": "markdown",
   "id": "42a93f98",
   "metadata": {
    "slideshow": {
     "slide_type": "slide"
    }
   },
   "source": [
    "# We just need searches, not visits"
   ]
  },
  {
   "cell_type": "code",
   "execution_count": 11,
   "id": "77e437d3",
   "metadata": {
    "slideshow": {
     "slide_type": "fragment"
    }
   },
   "outputs": [],
   "source": [
    "df['search terms'] = df['title'].str.extract(r'Searched for (.*)', expand=False)"
   ]
  },
  {
   "cell_type": "code",
   "execution_count": 25,
   "id": "7c23013a",
   "metadata": {
    "slideshow": {
     "slide_type": "fragment"
    }
   },
   "outputs": [
    {
     "data": {
      "text/html": [
       "<div>\n",
       "<style scoped>\n",
       "    .dataframe tbody tr th:only-of-type {\n",
       "        vertical-align: middle;\n",
       "    }\n",
       "\n",
       "    .dataframe tbody tr th {\n",
       "        vertical-align: top;\n",
       "    }\n",
       "\n",
       "    .dataframe thead th {\n",
       "        text-align: right;\n",
       "    }\n",
       "</style>\n",
       "<table border=\"1\" class=\"dataframe\">\n",
       "  <thead>\n",
       "    <tr style=\"text-align: right;\">\n",
       "      <th></th>\n",
       "      <th>title</th>\n",
       "      <th>time</th>\n",
       "      <th>year</th>\n",
       "      <th>month</th>\n",
       "      <th>search terms</th>\n",
       "    </tr>\n",
       "  </thead>\n",
       "  <tbody>\n",
       "    <tr>\n",
       "      <th>2</th>\n",
       "      <td>Searched for dyld: Library not loaded: @rpath/...</td>\n",
       "      <td>2022-05-18 23:09:14.320000+00:00</td>\n",
       "      <td>2022</td>\n",
       "      <td>5</td>\n",
       "      <td>dyld: Library not loaded: @rpath/libreadline.6...</td>\n",
       "    </tr>\n",
       "    <tr>\n",
       "      <th>4</th>\n",
       "      <td>Searched for jupyter notebook r kernel not sta...</td>\n",
       "      <td>2022-05-18 23:02:56.912000+00:00</td>\n",
       "      <td>2022</td>\n",
       "      <td>5</td>\n",
       "      <td>jupyter notebook r kernel not starting Error o...</td>\n",
       "    </tr>\n",
       "    <tr>\n",
       "      <th>6</th>\n",
       "      <td>Searched for jupyter notebook r kernel not sta...</td>\n",
       "      <td>2022-05-18 23:01:41.527000+00:00</td>\n",
       "      <td>2022</td>\n",
       "      <td>5</td>\n",
       "      <td>jupyter notebook r kernel not starting</td>\n",
       "    </tr>\n",
       "    <tr>\n",
       "      <th>8</th>\n",
       "      <td>Searched for hello world in r</td>\n",
       "      <td>2022-05-18 22:58:12.888000+00:00</td>\n",
       "      <td>2022</td>\n",
       "      <td>5</td>\n",
       "      <td>hello world in r</td>\n",
       "    </tr>\n",
       "    <tr>\n",
       "      <th>10</th>\n",
       "      <td>Searched for add r to jupyter notebook</td>\n",
       "      <td>2022-05-18 22:51:09.599000+00:00</td>\n",
       "      <td>2022</td>\n",
       "      <td>5</td>\n",
       "      <td>add r to jupyter notebook</td>\n",
       "    </tr>\n",
       "  </tbody>\n",
       "</table>\n",
       "</div>"
      ],
      "text/plain": [
       "                                                title  \\\n",
       "2   Searched for dyld: Library not loaded: @rpath/...   \n",
       "4   Searched for jupyter notebook r kernel not sta...   \n",
       "6   Searched for jupyter notebook r kernel not sta...   \n",
       "8                       Searched for hello world in r   \n",
       "10             Searched for add r to jupyter notebook   \n",
       "\n",
       "                               time  year  month  \\\n",
       "2  2022-05-18 23:09:14.320000+00:00  2022      5   \n",
       "4  2022-05-18 23:02:56.912000+00:00  2022      5   \n",
       "6  2022-05-18 23:01:41.527000+00:00  2022      5   \n",
       "8  2022-05-18 22:58:12.888000+00:00  2022      5   \n",
       "10 2022-05-18 22:51:09.599000+00:00  2022      5   \n",
       "\n",
       "                                         search terms  \n",
       "2   dyld: Library not loaded: @rpath/libreadline.6...  \n",
       "4   jupyter notebook r kernel not starting Error o...  \n",
       "6              jupyter notebook r kernel not starting  \n",
       "8                                    hello world in r  \n",
       "10                          add r to jupyter notebook  "
      ]
     },
     "execution_count": 25,
     "metadata": {},
     "output_type": "execute_result"
    }
   ],
   "source": [
    "df = df.loc[(df['search terms'].notnull())]\n",
    "df.head()"
   ]
  },
  {
   "cell_type": "markdown",
   "id": "0a5d3f5e",
   "metadata": {
    "slideshow": {
     "slide_type": "slide"
    }
   },
   "source": [
    "# cleaning"
   ]
  },
  {
   "cell_type": "code",
   "execution_count": 26,
   "id": "f56b6611",
   "metadata": {},
   "outputs": [],
   "source": [
    "df['search terms'] = df['search terms'].str.lower()"
   ]
  },
  {
   "cell_type": "code",
   "execution_count": 29,
   "id": "363c75da",
   "metadata": {},
   "outputs": [
    {
     "ename": "AttributeError",
     "evalue": "'Series' object has no attribute 'strip'",
     "output_type": "error",
     "traceback": [
      "\u001b[0;31m---------------------------------------------------------------------------\u001b[0m",
      "\u001b[0;31mAttributeError\u001b[0m                            Traceback (most recent call last)",
      "Input \u001b[0;32mIn [29]\u001b[0m, in \u001b[0;36m<cell line: 2>\u001b[0;34m()\u001b[0m\n\u001b[1;32m      1\u001b[0m \u001b[38;5;28;01mimport\u001b[39;00m \u001b[38;5;21;01mstring\u001b[39;00m\n\u001b[0;32m----> 2\u001b[0m \u001b[43mdf\u001b[49m\u001b[43m[\u001b[49m\u001b[38;5;124;43m'\u001b[39;49m\u001b[38;5;124;43msearch terms\u001b[39;49m\u001b[38;5;124;43m'\u001b[39;49m\u001b[43m]\u001b[49m\u001b[38;5;241;43m.\u001b[39;49m\u001b[43mstrip\u001b[49m(string\u001b[38;5;241m.\u001b[39mpunctuation)\n",
      "File \u001b[0;32m~/opt/anaconda3/envs/teaching/lib/python3.9/site-packages/pandas/core/generic.py:5487\u001b[0m, in \u001b[0;36mNDFrame.__getattr__\u001b[0;34m(self, name)\u001b[0m\n\u001b[1;32m   5480\u001b[0m \u001b[38;5;28;01mif\u001b[39;00m (\n\u001b[1;32m   5481\u001b[0m     name \u001b[38;5;129;01mnot\u001b[39;00m \u001b[38;5;129;01min\u001b[39;00m \u001b[38;5;28mself\u001b[39m\u001b[38;5;241m.\u001b[39m_internal_names_set\n\u001b[1;32m   5482\u001b[0m     \u001b[38;5;129;01mand\u001b[39;00m name \u001b[38;5;129;01mnot\u001b[39;00m \u001b[38;5;129;01min\u001b[39;00m \u001b[38;5;28mself\u001b[39m\u001b[38;5;241m.\u001b[39m_metadata\n\u001b[1;32m   5483\u001b[0m     \u001b[38;5;129;01mand\u001b[39;00m name \u001b[38;5;129;01mnot\u001b[39;00m \u001b[38;5;129;01min\u001b[39;00m \u001b[38;5;28mself\u001b[39m\u001b[38;5;241m.\u001b[39m_accessors\n\u001b[1;32m   5484\u001b[0m     \u001b[38;5;129;01mand\u001b[39;00m \u001b[38;5;28mself\u001b[39m\u001b[38;5;241m.\u001b[39m_info_axis\u001b[38;5;241m.\u001b[39m_can_hold_identifiers_and_holds_name(name)\n\u001b[1;32m   5485\u001b[0m ):\n\u001b[1;32m   5486\u001b[0m     \u001b[38;5;28;01mreturn\u001b[39;00m \u001b[38;5;28mself\u001b[39m[name]\n\u001b[0;32m-> 5487\u001b[0m \u001b[38;5;28;01mreturn\u001b[39;00m \u001b[38;5;28;43mobject\u001b[39;49m\u001b[38;5;241;43m.\u001b[39;49m\u001b[38;5;21;43m__getattribute__\u001b[39;49m\u001b[43m(\u001b[49m\u001b[38;5;28;43mself\u001b[39;49m\u001b[43m,\u001b[49m\u001b[43m \u001b[49m\u001b[43mname\u001b[49m\u001b[43m)\u001b[49m\n",
      "\u001b[0;31mAttributeError\u001b[0m: 'Series' object has no attribute 'strip'"
     ]
    }
   ],
   "source": [
    "import string\n",
    "\n",
    "def \n",
    "    txt.strip(string.punctuation)\n"
   ]
  },
  {
   "cell_type": "code",
   "execution_count": 28,
   "id": "5f3cec03",
   "metadata": {},
   "outputs": [
    {
     "data": {
      "text/plain": [
       "2        [dyld:, library, not, loaded:, @rpath/libreadl...\n",
       "4        [jupyter, notebook, r, kernel, not, starting, ...\n",
       "6            [jupyter, notebook, r, kernel, not, starting]\n",
       "8                                    [hello, world, in, r]\n",
       "10                         [add, r, to, jupyter, notebook]\n",
       "                               ...                        \n",
       "50215                                 [20, kg, in, poinds]\n",
       "50217                           [erasmus, university, map]\n",
       "50218                        [chicco, -, lite, way, buggy]\n",
       "50222                                          [bo, xilai]\n",
       "50223                           [10, megabytes, in, bytes]\n",
       "Name: search terms, Length: 26948, dtype: object"
      ]
     },
     "execution_count": 28,
     "metadata": {},
     "output_type": "execute_result"
    }
   ],
   "source": [
    "df['search terms'].str.split(' ', expand=False)"
   ]
  },
  {
   "cell_type": "code",
   "execution_count": null,
   "id": "cb30bf77",
   "metadata": {},
   "outputs": [],
   "source": []
  }
 ],
 "metadata": {
  "celltoolbar": "Slideshow",
  "kernelspec": {
   "display_name": "Python 3 (ipykernel)",
   "language": "python",
   "name": "python3"
  },
  "language_info": {
   "codemirror_mode": {
    "name": "ipython",
    "version": 3
   },
   "file_extension": ".py",
   "mimetype": "text/x-python",
   "name": "python",
   "nbconvert_exporter": "python",
   "pygments_lexer": "ipython3",
   "version": "3.9.7"
  }
 },
 "nbformat": 4,
 "nbformat_minor": 5
}
